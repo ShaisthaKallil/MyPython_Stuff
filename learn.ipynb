{
 "cells": [
  {
   "cell_type": "code",
   "execution_count": 1,
   "id": "47dab753",
   "metadata": {},
   "outputs": [
    {
     "data": {
      "text/plain": [
       "5.551115123125783e-17"
      ]
     },
     "execution_count": 1,
     "metadata": {},
     "output_type": "execute_result"
    }
   ],
   "source": [
    "0.1+0.2-0.3"
   ]
  },
  {
   "cell_type": "code",
   "execution_count": 2,
   "id": "8dc6b38c",
   "metadata": {},
   "outputs": [
    {
     "data": {
      "text/plain": [
       "0"
      ]
     },
     "execution_count": 2,
     "metadata": {},
     "output_type": "execute_result"
    }
   ],
   "source": [
    "int(0.1+0.2-0.3)"
   ]
  },
  {
   "cell_type": "code",
   "execution_count": 3,
   "id": "d6f8ccd9",
   "metadata": {},
   "outputs": [
    {
     "data": {
      "text/plain": [
       "0.5"
      ]
     },
     "execution_count": 3,
     "metadata": {},
     "output_type": "execute_result"
    }
   ],
   "source": [
    "1/2"
   ]
  },
  {
   "cell_type": "code",
   "execution_count": 4,
   "id": "5e65ace5",
   "metadata": {},
   "outputs": [],
   "source": [
    "my_income = 100\n",
    "\n",
    "tax_rate = 0.1\n",
    "\n",
    "my_taxes = my_income * tax_rate\n",
    "\n"
   ]
  },
  {
   "cell_type": "code",
   "execution_count": 5,
   "id": "5e2a58f9",
   "metadata": {},
   "outputs": [
    {
     "data": {
      "text/plain": [
       "10.0"
      ]
     },
     "execution_count": 5,
     "metadata": {},
     "output_type": "execute_result"
    }
   ],
   "source": [
    "my_taxes"
   ]
  },
  {
   "cell_type": "code",
   "execution_count": 6,
   "id": "e35ee513",
   "metadata": {},
   "outputs": [
    {
     "data": {
      "text/plain": [
       "float"
      ]
     },
     "execution_count": 6,
     "metadata": {},
     "output_type": "execute_result"
    }
   ],
   "source": [
    "type(my_taxes)"
   ]
  },
  {
   "cell_type": "markdown",
   "id": "bb8c29b3",
   "metadata": {},
   "source": [
    "STRINGS"
   ]
  },
  {
   "cell_type": "code",
   "execution_count": 7,
   "id": "69b1c25e",
   "metadata": {},
   "outputs": [
    {
     "name": "stdout",
     "output_type": "stream",
     "text": [
      "hello\n"
     ]
    }
   ],
   "source": [
    "print(\"hello\")"
   ]
  },
  {
   "cell_type": "code",
   "execution_count": 8,
   "id": "6c9174e4",
   "metadata": {},
   "outputs": [
    {
     "name": "stdout",
     "output_type": "stream",
     "text": [
      "hello \n",
      " world\n"
     ]
    }
   ],
   "source": [
    "print(\"hello \\n world\")"
   ]
  },
  {
   "cell_type": "code",
   "execution_count": 9,
   "id": "f796e08d",
   "metadata": {},
   "outputs": [
    {
     "data": {
      "text/plain": [
       "5"
      ]
     },
     "execution_count": 9,
     "metadata": {},
     "output_type": "execute_result"
    }
   ],
   "source": [
    "len(\"hello\")"
   ]
  },
  {
   "cell_type": "code",
   "execution_count": 10,
   "id": "a3b4ea08",
   "metadata": {},
   "outputs": [
    {
     "data": {
      "text/plain": [
       "4"
      ]
     },
     "execution_count": 10,
     "metadata": {},
     "output_type": "execute_result"
    }
   ],
   "source": [
    "len(\"I am\")"
   ]
  },
  {
   "cell_type": "code",
   "execution_count": 11,
   "id": "c09ff774",
   "metadata": {},
   "outputs": [
    {
     "name": "stdout",
     "output_type": "stream",
     "text": [
      "Hello World\n"
     ]
    }
   ],
   "source": [
    "print(\"Hello World\")"
   ]
  },
  {
   "cell_type": "markdown",
   "id": "fb6fe22b",
   "metadata": {},
   "source": [
    "INDEXING"
   ]
  },
  {
   "cell_type": "code",
   "execution_count": 12,
   "id": "34359ff2",
   "metadata": {},
   "outputs": [],
   "source": [
    "mystring = \"Hello Me\""
   ]
  },
  {
   "cell_type": "code",
   "execution_count": 13,
   "id": "5544018c",
   "metadata": {},
   "outputs": [
    {
     "data": {
      "text/plain": [
       "'H'"
      ]
     },
     "execution_count": 13,
     "metadata": {},
     "output_type": "execute_result"
    }
   ],
   "source": [
    "mystring[0]"
   ]
  },
  {
   "cell_type": "code",
   "execution_count": 14,
   "id": "8f5f9793",
   "metadata": {},
   "outputs": [
    {
     "data": {
      "text/plain": [
       "'M'"
      ]
     },
     "execution_count": 14,
     "metadata": {},
     "output_type": "execute_result"
    }
   ],
   "source": [
    "mystring[-2]"
   ]
  },
  {
   "cell_type": "markdown",
   "id": "a8020752",
   "metadata": {},
   "source": [
    "SLICING"
   ]
  },
  {
   "cell_type": "code",
   "execution_count": 15,
   "id": "03d89e2d",
   "metadata": {},
   "outputs": [],
   "source": [
    "mystring = \"abcdefghijk\""
   ]
  },
  {
   "cell_type": "code",
   "execution_count": 16,
   "id": "eeef48ac",
   "metadata": {},
   "outputs": [
    {
     "data": {
      "text/plain": [
       "'cdefghijk'"
      ]
     },
     "execution_count": 16,
     "metadata": {},
     "output_type": "execute_result"
    }
   ],
   "source": [
    "mystring[2:]"
   ]
  },
  {
   "cell_type": "code",
   "execution_count": 17,
   "id": "fde56b65",
   "metadata": {},
   "outputs": [
    {
     "data": {
      "text/plain": [
       "'abc'"
      ]
     },
     "execution_count": 17,
     "metadata": {},
     "output_type": "execute_result"
    }
   ],
   "source": [
    "mystring[:3]"
   ]
  },
  {
   "cell_type": "code",
   "execution_count": 18,
   "id": "77d58d7b",
   "metadata": {},
   "outputs": [
    {
     "data": {
      "text/plain": [
       "'abcdefghijk'"
      ]
     },
     "execution_count": 18,
     "metadata": {},
     "output_type": "execute_result"
    }
   ],
   "source": [
    "mystring[:]"
   ]
  },
  {
   "cell_type": "code",
   "execution_count": 19,
   "id": "b28b825d",
   "metadata": {},
   "outputs": [
    {
     "data": {
      "text/plain": [
       "'def'"
      ]
     },
     "execution_count": 19,
     "metadata": {},
     "output_type": "execute_result"
    }
   ],
   "source": [
    "mystring[3:6]"
   ]
  },
  {
   "cell_type": "code",
   "execution_count": 20,
   "id": "de5d29b1",
   "metadata": {},
   "outputs": [
    {
     "data": {
      "text/plain": [
       "'bc'"
      ]
     },
     "execution_count": 20,
     "metadata": {},
     "output_type": "execute_result"
    }
   ],
   "source": [
    "mystring[1:3]"
   ]
  },
  {
   "cell_type": "code",
   "execution_count": 21,
   "id": "5cbcde3c",
   "metadata": {},
   "outputs": [
    {
     "data": {
      "text/plain": [
       "'abcdefghijk'"
      ]
     },
     "execution_count": 21,
     "metadata": {},
     "output_type": "execute_result"
    }
   ],
   "source": [
    "mystring[::]"
   ]
  },
  {
   "cell_type": "code",
   "execution_count": 22,
   "id": "b93f6dfc",
   "metadata": {},
   "outputs": [
    {
     "data": {
      "text/plain": [
       "'adgj'"
      ]
     },
     "execution_count": 22,
     "metadata": {},
     "output_type": "execute_result"
    }
   ],
   "source": [
    "mystring[::3]"
   ]
  },
  {
   "cell_type": "code",
   "execution_count": 23,
   "id": "88a6cf53",
   "metadata": {},
   "outputs": [
    {
     "data": {
      "text/plain": [
       "'ceg'"
      ]
     },
     "execution_count": 23,
     "metadata": {},
     "output_type": "execute_result"
    }
   ],
   "source": [
    "mystring[2:7:2]"
   ]
  },
  {
   "cell_type": "code",
   "execution_count": 24,
   "id": "e36036a6",
   "metadata": {},
   "outputs": [
    {
     "data": {
      "text/plain": [
       "'kjihgfedcba'"
      ]
     },
     "execution_count": 24,
     "metadata": {},
     "output_type": "execute_result"
    }
   ],
   "source": [
    "mystring[::-1]"
   ]
  },
  {
   "cell_type": "code",
   "execution_count": 25,
   "id": "9f4191fe",
   "metadata": {},
   "outputs": [
    {
     "data": {
      "text/plain": [
       "'r'"
      ]
     },
     "execution_count": 25,
     "metadata": {},
     "output_type": "execute_result"
    }
   ],
   "source": [
    "'Hello World'[8]"
   ]
  },
  {
   "cell_type": "code",
   "execution_count": 26,
   "id": "b3b788c1",
   "metadata": {},
   "outputs": [
    {
     "data": {
      "text/plain": [
       "'ink'"
      ]
     },
     "execution_count": 26,
     "metadata": {},
     "output_type": "execute_result"
    }
   ],
   "source": [
    "'tinker'[1:4]"
   ]
  },
  {
   "cell_type": "markdown",
   "id": "32376368",
   "metadata": {},
   "source": [
    "CONCATENATION OF STRINGS"
   ]
  },
  {
   "cell_type": "code",
   "execution_count": 27,
   "id": "f09e8344",
   "metadata": {},
   "outputs": [],
   "source": [
    "name = \"Sam\""
   ]
  },
  {
   "cell_type": "code",
   "execution_count": 28,
   "id": "4d3fcaed",
   "metadata": {},
   "outputs": [
    {
     "data": {
      "text/plain": [
       "'Pam'"
      ]
     },
     "execution_count": 28,
     "metadata": {},
     "output_type": "execute_result"
    }
   ],
   "source": [
    "last_letters = name[1:]\n",
    "'P'+ last_letters"
   ]
  },
  {
   "cell_type": "code",
   "execution_count": 29,
   "id": "67fc9386",
   "metadata": {},
   "outputs": [
    {
     "data": {
      "text/plain": [
       "'Hello World ! It is beautiful outside'"
      ]
     },
     "execution_count": 29,
     "metadata": {},
     "output_type": "execute_result"
    }
   ],
   "source": [
    "x = \"Hello World !\"\n",
    "x + \" It is beautiful outside\""
   ]
  },
  {
   "cell_type": "code",
   "execution_count": 30,
   "id": "9c5c823a",
   "metadata": {},
   "outputs": [
    {
     "data": {
      "text/plain": [
       "'zzzzzzzzzz'"
      ]
     },
     "execution_count": 30,
     "metadata": {},
     "output_type": "execute_result"
    }
   ],
   "source": [
    "letter = 'z'\n",
    "letter * 10"
   ]
  },
  {
   "cell_type": "code",
   "execution_count": 31,
   "id": "3da1d856",
   "metadata": {},
   "outputs": [
    {
     "data": {
      "text/plain": [
       "'HELLO WORLD'"
      ]
     },
     "execution_count": 31,
     "metadata": {},
     "output_type": "execute_result"
    }
   ],
   "source": [
    "x = \"Hello World\"\n",
    "x.upper()"
   ]
  },
  {
   "cell_type": "code",
   "execution_count": 32,
   "id": "e76b7e7c",
   "metadata": {},
   "outputs": [
    {
     "data": {
      "text/plain": [
       "'hello world'"
      ]
     },
     "execution_count": 32,
     "metadata": {},
     "output_type": "execute_result"
    }
   ],
   "source": [
    "x.lower()"
   ]
  },
  {
   "cell_type": "code",
   "execution_count": 33,
   "id": "14ec5c9e",
   "metadata": {},
   "outputs": [
    {
     "data": {
      "text/plain": [
       "['Hello', 'World']"
      ]
     },
     "execution_count": 33,
     "metadata": {},
     "output_type": "execute_result"
    }
   ],
   "source": [
    "x.split()"
   ]
  },
  {
   "cell_type": "code",
   "execution_count": 36,
   "id": "f5d62847",
   "metadata": {},
   "outputs": [
    {
     "data": {
      "text/plain": [
       "['H', ' th', 's ', 's me']"
      ]
     },
     "execution_count": 36,
     "metadata": {},
     "output_type": "execute_result"
    }
   ],
   "source": [
    "y = \"Hi this is me\"\n",
    "y.split('i')"
   ]
  },
  {
   "cell_type": "markdown",
   "id": "46ea34c6",
   "metadata": {},
   "source": [
    "STRING INTERPOLATION - PRINT VARIABLES WITHIN STRING"
   ]
  },
  {
   "cell_type": "code",
   "execution_count": 37,
   "id": "90393d1a",
   "metadata": {},
   "outputs": [
    {
     "name": "stdout",
     "output_type": "stream",
     "text": [
      "This is a string INSERTED\n"
     ]
    }
   ],
   "source": [
    "print('This is a string {}'.format('INSERTED'))"
   ]
  },
  {
   "cell_type": "code",
   "execution_count": 38,
   "id": "d0d0bea8",
   "metadata": {},
   "outputs": [
    {
     "name": "stdout",
     "output_type": "stream",
     "text": [
      "The quick brown  fox\n"
     ]
    }
   ],
   "source": [
    "print(\"The {1} {2}  {0}\".format('fox', 'quick', 'brown'))"
   ]
  },
  {
   "cell_type": "code",
   "execution_count": 39,
   "id": "7ea79806",
   "metadata": {},
   "outputs": [
    {
     "name": "stdout",
     "output_type": "stream",
     "text": [
      "The quick brown fox\n"
     ]
    }
   ],
   "source": [
    "print('The {a} {b} {c}'.format(a = 'quick', b = 'brown', c = 'fox'))"
   ]
  },
  {
   "cell_type": "markdown",
   "id": "01a1f708",
   "metadata": {},
   "source": [
    "LIMITING THE DISPLAYED FLOAT VALUE"
   ]
  },
  {
   "cell_type": "code",
   "execution_count": 40,
   "id": "bb2fb02c",
   "metadata": {},
   "outputs": [],
   "source": [
    "result = 100/777"
   ]
  },
  {
   "cell_type": "code",
   "execution_count": 41,
   "id": "f7abd6a3",
   "metadata": {},
   "outputs": [
    {
     "data": {
      "text/plain": [
       "0.1287001287001287"
      ]
     },
     "execution_count": 41,
     "metadata": {},
     "output_type": "execute_result"
    }
   ],
   "source": [
    "result"
   ]
  },
  {
   "cell_type": "code",
   "execution_count": 42,
   "id": "4b417c3b",
   "metadata": {},
   "outputs": [
    {
     "name": "stdout",
     "output_type": "stream",
     "text": [
      "The result is 0.129\n"
     ]
    }
   ],
   "source": [
    "print(\"The result is {r:1.3f}\".format(r=result))"
   ]
  },
  {
   "cell_type": "code",
   "execution_count": 43,
   "id": "2e63094c",
   "metadata": {},
   "outputs": [
    {
     "name": "stdout",
     "output_type": "stream",
     "text": [
      "Python rules!\n"
     ]
    }
   ],
   "source": [
    "print('Python {r}'.format(r ='rules!'))"
   ]
  },
  {
   "cell_type": "markdown",
   "id": "b031c246",
   "metadata": {},
   "source": [
    "LISTS"
   ]
  },
  {
   "cell_type": "code",
   "execution_count": 44,
   "id": "8d847bb2",
   "metadata": {},
   "outputs": [],
   "source": [
    "my_list = ['STRING',100,23.8]"
   ]
  },
  {
   "cell_type": "code",
   "execution_count": 45,
   "id": "d0ef5888",
   "metadata": {},
   "outputs": [
    {
     "data": {
      "text/plain": [
       "3"
      ]
     },
     "execution_count": 45,
     "metadata": {},
     "output_type": "execute_result"
    }
   ],
   "source": [
    "len(my_list)"
   ]
  },
  {
   "cell_type": "code",
   "execution_count": 46,
   "id": "699af3fa",
   "metadata": {},
   "outputs": [
    {
     "data": {
      "text/plain": [
       "['STRING', 100, 23.8]"
      ]
     },
     "execution_count": 46,
     "metadata": {},
     "output_type": "execute_result"
    }
   ],
   "source": [
    "my_list"
   ]
  },
  {
   "cell_type": "code",
   "execution_count": 47,
   "id": "beed241b",
   "metadata": {},
   "outputs": [
    {
     "data": {
      "text/plain": [
       "'STRING'"
      ]
     },
     "execution_count": 47,
     "metadata": {},
     "output_type": "execute_result"
    }
   ],
   "source": [
    "my_list[0]"
   ]
  },
  {
   "cell_type": "code",
   "execution_count": 48,
   "id": "44e5091f",
   "metadata": {},
   "outputs": [
    {
     "data": {
      "text/plain": [
       "[100, 23.8]"
      ]
     },
     "execution_count": 48,
     "metadata": {},
     "output_type": "execute_result"
    }
   ],
   "source": [
    "my_list[1:]"
   ]
  },
  {
   "cell_type": "markdown",
   "id": "990dc0f6",
   "metadata": {},
   "source": [
    "Concatenate Lists"
   ]
  },
  {
   "cell_type": "code",
   "execution_count": 49,
   "id": "026e51f3",
   "metadata": {},
   "outputs": [],
   "source": [
    "my_list_next = ['one','two']"
   ]
  },
  {
   "cell_type": "code",
   "execution_count": 50,
   "id": "7eab7e3d",
   "metadata": {},
   "outputs": [
    {
     "data": {
      "text/plain": [
       "['STRING', 100, 23.8, 'one', 'two']"
      ]
     },
     "execution_count": 50,
     "metadata": {},
     "output_type": "execute_result"
    }
   ],
   "source": [
    "my_list + my_list_next"
   ]
  },
  {
   "cell_type": "markdown",
   "id": "3b802379",
   "metadata": {},
   "source": [
    "Mutate"
   ]
  },
  {
   "cell_type": "code",
   "execution_count": 51,
   "id": "ed18ff29",
   "metadata": {},
   "outputs": [],
   "source": [
    "my_list[0] = \"hello\""
   ]
  },
  {
   "cell_type": "code",
   "execution_count": 52,
   "id": "023cbd95",
   "metadata": {},
   "outputs": [
    {
     "data": {
      "text/plain": [
       "['hello', 100, 23.8]"
      ]
     },
     "execution_count": 52,
     "metadata": {},
     "output_type": "execute_result"
    }
   ],
   "source": [
    "my_list"
   ]
  },
  {
   "cell_type": "code",
   "execution_count": 53,
   "id": "61523253",
   "metadata": {},
   "outputs": [],
   "source": [
    "my_list.append(89)"
   ]
  },
  {
   "cell_type": "code",
   "execution_count": 54,
   "id": "4b0ca076",
   "metadata": {},
   "outputs": [
    {
     "data": {
      "text/plain": [
       "['hello', 100, 23.8, 89]"
      ]
     },
     "execution_count": 54,
     "metadata": {},
     "output_type": "execute_result"
    }
   ],
   "source": [
    "my_list"
   ]
  },
  {
   "cell_type": "code",
   "execution_count": 55,
   "id": "81949bd3",
   "metadata": {},
   "outputs": [],
   "source": [
    "popped = my_list.pop()"
   ]
  },
  {
   "cell_type": "code",
   "execution_count": 56,
   "id": "4ad5d31d",
   "metadata": {},
   "outputs": [
    {
     "data": {
      "text/plain": [
       "89"
      ]
     },
     "execution_count": 56,
     "metadata": {},
     "output_type": "execute_result"
    }
   ],
   "source": [
    "popped"
   ]
  },
  {
   "cell_type": "code",
   "execution_count": 57,
   "id": "c7d04a0d",
   "metadata": {},
   "outputs": [],
   "source": [
    "pop_two_index = my_list.pop(2)"
   ]
  },
  {
   "cell_type": "code",
   "execution_count": 58,
   "id": "5a274dea",
   "metadata": {},
   "outputs": [
    {
     "data": {
      "text/plain": [
       "23.8"
      ]
     },
     "execution_count": 58,
     "metadata": {},
     "output_type": "execute_result"
    }
   ],
   "source": [
    "pop_two_index"
   ]
  },
  {
   "cell_type": "code",
   "execution_count": 59,
   "id": "79e50d04",
   "metadata": {},
   "outputs": [
    {
     "data": {
      "text/plain": [
       "['hello', 100]"
      ]
     },
     "execution_count": 59,
     "metadata": {},
     "output_type": "execute_result"
    }
   ],
   "source": [
    "my_list"
   ]
  },
  {
   "cell_type": "code",
   "execution_count": 60,
   "id": "34a58c7c",
   "metadata": {},
   "outputs": [],
   "source": [
    "new_list = ['a','x','m']\n",
    "new_list.sort()"
   ]
  },
  {
   "cell_type": "code",
   "execution_count": 61,
   "id": "54098af9",
   "metadata": {},
   "outputs": [
    {
     "data": {
      "text/plain": [
       "['a', 'm', 'x']"
      ]
     },
     "execution_count": 61,
     "metadata": {},
     "output_type": "execute_result"
    }
   ],
   "source": [
    "new_list"
   ]
  },
  {
   "cell_type": "code",
   "execution_count": 62,
   "id": "972f76b9",
   "metadata": {},
   "outputs": [],
   "source": [
    "new_list = [1234,3543,89,3453]\n",
    "new_list.sort()"
   ]
  },
  {
   "cell_type": "code",
   "execution_count": 63,
   "id": "fd117033",
   "metadata": {},
   "outputs": [
    {
     "data": {
      "text/plain": [
       "[89, 1234, 3453, 3543]"
      ]
     },
     "execution_count": 63,
     "metadata": {},
     "output_type": "execute_result"
    }
   ],
   "source": [
    "new_list"
   ]
  },
  {
   "cell_type": "code",
   "execution_count": 64,
   "id": "27fcdefc",
   "metadata": {},
   "outputs": [
    {
     "data": {
      "text/plain": [
       "[3543, 3453, 1234, 89]"
      ]
     },
     "execution_count": 64,
     "metadata": {},
     "output_type": "execute_result"
    }
   ],
   "source": [
    "new_list.reverse()\n",
    "new_list"
   ]
  },
  {
   "cell_type": "markdown",
   "id": "61240294",
   "metadata": {},
   "source": [
    "DICTIONARIES"
   ]
  },
  {
   "cell_type": "code",
   "execution_count": 65,
   "id": "ba016288",
   "metadata": {},
   "outputs": [
    {
     "ename": "NameError",
     "evalue": "name 'oranges' is not defined",
     "output_type": "error",
     "traceback": [
      "\u001b[1;31m---------------------------------------------------------------------------\u001b[0m",
      "\u001b[1;31mNameError\u001b[0m                                 Traceback (most recent call last)",
      "\u001b[1;32m<ipython-input-65-d0339dc0cd98>\u001b[0m in \u001b[0;36m<module>\u001b[1;34m\u001b[0m\n\u001b[0;32m      1\u001b[0m \u001b[0mprice_lookup\u001b[0m \u001b[1;33m=\u001b[0m \u001b[1;33m{\u001b[0m\u001b[1;34m'apple'\u001b[0m\u001b[1;33m:\u001b[0m\u001b[1;36m4.60\u001b[0m\u001b[1;33m,\u001b[0m \u001b[1;34m'oranges'\u001b[0m\u001b[1;33m:\u001b[0m\u001b[1;36m2.30\u001b[0m\u001b[1;33m,\u001b[0m \u001b[1;34m'tomato'\u001b[0m\u001b[1;33m:\u001b[0m\u001b[1;36m5.00\u001b[0m\u001b[1;33m}\u001b[0m\u001b[1;33m\u001b[0m\u001b[1;33m\u001b[0m\u001b[0m\n\u001b[1;32m----> 2\u001b[1;33m \u001b[0mprice_lookup\u001b[0m\u001b[1;33m[\u001b[0m\u001b[0moranges\u001b[0m\u001b[1;33m]\u001b[0m\u001b[1;33m\u001b[0m\u001b[1;33m\u001b[0m\u001b[0m\n\u001b[0m",
      "\u001b[1;31mNameError\u001b[0m: name 'oranges' is not defined"
     ]
    }
   ],
   "source": [
    "price_lookup = {'apple':4.60, 'oranges':2.30, 'tomato':5.00}\n",
    "price_lookup[oranges]"
   ]
  },
  {
   "cell_type": "code",
   "execution_count": 66,
   "id": "aab40a4b",
   "metadata": {},
   "outputs": [
    {
     "data": {
      "text/plain": [
       "2.3"
      ]
     },
     "execution_count": 66,
     "metadata": {},
     "output_type": "execute_result"
    }
   ],
   "source": [
    "price_lookup['oranges']"
   ]
  },
  {
   "cell_type": "code",
   "execution_count": 67,
   "id": "58d14a8d",
   "metadata": {},
   "outputs": [
    {
     "data": {
      "text/plain": [
       "['re', 453, 32.33]"
      ]
     },
     "execution_count": 67,
     "metadata": {},
     "output_type": "execute_result"
    }
   ],
   "source": [
    "d = {'k1':3424, 'k2':['re',453,32.33], 'k3':'hello'}\n",
    "d['k2']"
   ]
  },
  {
   "cell_type": "code",
   "execution_count": 68,
   "id": "0fbe8af1",
   "metadata": {},
   "outputs": [
    {
     "data": {
      "text/plain": [
       "['apple', 'boat', 'cat']"
      ]
     },
     "execution_count": 68,
     "metadata": {},
     "output_type": "execute_result"
    }
   ],
   "source": [
    "d = {'key1':['apple', 'boat', 'cat']}\n",
    "my_lst = d['key1']\n",
    "my_lst"
   ]
  },
  {
   "cell_type": "code",
   "execution_count": 69,
   "id": "f6694ceb",
   "metadata": {},
   "outputs": [
    {
     "data": {
      "text/plain": [
       "'CAT'"
      ]
     },
     "execution_count": 69,
     "metadata": {},
     "output_type": "execute_result"
    }
   ],
   "source": [
    "temp = my_lst[2].upper()\n",
    "temp"
   ]
  },
  {
   "cell_type": "code",
   "execution_count": 70,
   "id": "711a2ab1",
   "metadata": {},
   "outputs": [
    {
     "data": {
      "text/plain": [
       "'Cat'"
      ]
     },
     "execution_count": 70,
     "metadata": {},
     "output_type": "execute_result"
    }
   ],
   "source": [
    "hold = temp[0]\n",
    "holdn= temp[1:].lower()\n",
    "hold + holdn\n"
   ]
  },
  {
   "cell_type": "code",
   "execution_count": 71,
   "id": "5d6535e4",
   "metadata": {},
   "outputs": [
    {
     "data": {
      "text/plain": [
       "'CAT'"
      ]
     },
     "execution_count": 71,
     "metadata": {},
     "output_type": "execute_result"
    }
   ],
   "source": [
    "d['key1'][2].upper()"
   ]
  },
  {
   "cell_type": "code",
   "execution_count": 72,
   "id": "e282bad2",
   "metadata": {},
   "outputs": [
    {
     "data": {
      "text/plain": [
       "{'key1': ['apple', 'boat', 'cat'], 'key2': 100}"
      ]
     },
     "execution_count": 72,
     "metadata": {},
     "output_type": "execute_result"
    }
   ],
   "source": [
    "d['key2'] = 100\n",
    "d"
   ]
  },
  {
   "cell_type": "code",
   "execution_count": 74,
   "id": "c2ead71c",
   "metadata": {},
   "outputs": [
    {
     "data": {
      "text/plain": [
       "{'key1': 'SUPER', 'key2': 100}"
      ]
     },
     "execution_count": 74,
     "metadata": {},
     "output_type": "execute_result"
    }
   ],
   "source": [
    "d['key1'] = \"SUPER\"\n",
    "d"
   ]
  },
  {
   "cell_type": "code",
   "execution_count": 75,
   "id": "f43cceca",
   "metadata": {},
   "outputs": [
    {
     "data": {
      "text/plain": [
       "dict_keys(['k1', 'k2', 'k3'])"
      ]
     },
     "execution_count": 75,
     "metadata": {},
     "output_type": "execute_result"
    }
   ],
   "source": [
    "d = {'k1':100, 'k2':200, 'k3':300}\n",
    "d.keys()"
   ]
  },
  {
   "cell_type": "code",
   "execution_count": 76,
   "id": "db0a0c4b",
   "metadata": {},
   "outputs": [
    {
     "data": {
      "text/plain": [
       "dict_values([100, 200, 300])"
      ]
     },
     "execution_count": 76,
     "metadata": {},
     "output_type": "execute_result"
    }
   ],
   "source": [
    "d.values()"
   ]
  },
  {
   "cell_type": "code",
   "execution_count": 77,
   "id": "28e60d0a",
   "metadata": {},
   "outputs": [
    {
     "data": {
      "text/plain": [
       "dict_items([('k1', 100), ('k2', 200), ('k3', 300)])"
      ]
     },
     "execution_count": 77,
     "metadata": {},
     "output_type": "execute_result"
    }
   ],
   "source": [
    "d.items()"
   ]
  },
  {
   "cell_type": "markdown",
   "id": "d0bcbd6a",
   "metadata": {},
   "source": [
    "TUPLES"
   ]
  },
  {
   "cell_type": "code",
   "execution_count": 78,
   "id": "6d764a64",
   "metadata": {},
   "outputs": [],
   "source": [
    "t = (1,2,3)"
   ]
  },
  {
   "cell_type": "code",
   "execution_count": 79,
   "id": "d44fc197",
   "metadata": {},
   "outputs": [
    {
     "data": {
      "text/plain": [
       "1"
      ]
     },
     "execution_count": 79,
     "metadata": {},
     "output_type": "execute_result"
    }
   ],
   "source": [
    "t[0]"
   ]
  },
  {
   "cell_type": "code",
   "execution_count": 80,
   "id": "a79be936",
   "metadata": {},
   "outputs": [
    {
     "data": {
      "text/plain": [
       "(2, 3)"
      ]
     },
     "execution_count": 80,
     "metadata": {},
     "output_type": "execute_result"
    }
   ],
   "source": [
    "t[1:]"
   ]
  },
  {
   "cell_type": "code",
   "execution_count": 81,
   "id": "3146e8f0",
   "metadata": {},
   "outputs": [
    {
     "data": {
      "text/plain": [
       "2"
      ]
     },
     "execution_count": 81,
     "metadata": {},
     "output_type": "execute_result"
    }
   ],
   "source": [
    "t = ('a','b','b')\n",
    "t.count('b')"
   ]
  },
  {
   "cell_type": "code",
   "execution_count": 82,
   "id": "0fe3fad3",
   "metadata": {},
   "outputs": [
    {
     "data": {
      "text/plain": [
       "1"
      ]
     },
     "execution_count": 82,
     "metadata": {},
     "output_type": "execute_result"
    }
   ],
   "source": [
    "t.index('b')"
   ]
  },
  {
   "cell_type": "markdown",
   "id": "46c58ee2",
   "metadata": {},
   "source": [
    "SETS"
   ]
  },
  {
   "cell_type": "code",
   "execution_count": 83,
   "id": "774c42b6",
   "metadata": {},
   "outputs": [],
   "source": [
    "mysets = set()\n",
    "mysets.add(1)"
   ]
  },
  {
   "cell_type": "code",
   "execution_count": 84,
   "id": "ea76ae77",
   "metadata": {},
   "outputs": [
    {
     "data": {
      "text/plain": [
       "{1}"
      ]
     },
     "execution_count": 84,
     "metadata": {},
     "output_type": "execute_result"
    }
   ],
   "source": [
    "mysets"
   ]
  },
  {
   "cell_type": "code",
   "execution_count": 85,
   "id": "97c57311",
   "metadata": {},
   "outputs": [],
   "source": [
    "myLst = [1,2,3,3,3]"
   ]
  },
  {
   "cell_type": "code",
   "execution_count": 86,
   "id": "da08a26d",
   "metadata": {},
   "outputs": [
    {
     "data": {
      "text/plain": [
       "{1, 2, 3}"
      ]
     },
     "execution_count": 86,
     "metadata": {},
     "output_type": "execute_result"
    }
   ],
   "source": [
    "set(myLst)"
   ]
  },
  {
   "cell_type": "code",
   "execution_count": 87,
   "id": "bea66a00",
   "metadata": {},
   "outputs": [],
   "source": [
    "str = 'Mississippi'"
   ]
  },
  {
   "cell_type": "code",
   "execution_count": 88,
   "id": "58603888",
   "metadata": {},
   "outputs": [
    {
     "data": {
      "text/plain": [
       "{'M', 'i', 'p', 's'}"
      ]
     },
     "execution_count": 88,
     "metadata": {},
     "output_type": "execute_result"
    }
   ],
   "source": [
    "set(str)"
   ]
  },
  {
   "cell_type": "code",
   "execution_count": 89,
   "id": "aef407dc",
   "metadata": {},
   "outputs": [
    {
     "data": {
      "text/plain": [
       "{'M', 'i', 'p', 's'}"
      ]
     },
     "execution_count": 89,
     "metadata": {},
     "output_type": "execute_result"
    }
   ],
   "source": [
    "test = set(str)\n",
    "test"
   ]
  },
  {
   "cell_type": "code",
   "execution_count": 90,
   "id": "eb590301",
   "metadata": {},
   "outputs": [
    {
     "ename": "TypeError",
     "evalue": "'set' object is not subscriptable",
     "output_type": "error",
     "traceback": [
      "\u001b[1;31m---------------------------------------------------------------------------\u001b[0m",
      "\u001b[1;31mTypeError\u001b[0m                                 Traceback (most recent call last)",
      "\u001b[1;32m<ipython-input-90-6caaab14b5ef>\u001b[0m in \u001b[0;36m<module>\u001b[1;34m\u001b[0m\n\u001b[1;32m----> 1\u001b[1;33m \u001b[0mtest\u001b[0m\u001b[1;33m[\u001b[0m\u001b[1;36m0\u001b[0m\u001b[1;33m]\u001b[0m\u001b[1;33m\u001b[0m\u001b[1;33m\u001b[0m\u001b[0m\n\u001b[0m",
      "\u001b[1;31mTypeError\u001b[0m: 'set' object is not subscriptable"
     ]
    }
   ],
   "source": [
    "test[0]"
   ]
  },
  {
   "cell_type": "markdown",
   "id": "52215880",
   "metadata": {},
   "source": [
    "BOOLEANS"
   ]
  },
  {
   "cell_type": "code",
   "execution_count": 91,
   "id": "545a8035",
   "metadata": {},
   "outputs": [
    {
     "data": {
      "text/plain": [
       "False"
      ]
     },
     "execution_count": 91,
     "metadata": {},
     "output_type": "execute_result"
    }
   ],
   "source": [
    "1>2"
   ]
  },
  {
   "cell_type": "code",
   "execution_count": 92,
   "id": "cb6d6cd6",
   "metadata": {},
   "outputs": [
    {
     "data": {
      "text/plain": [
       "True"
      ]
     },
     "execution_count": 92,
     "metadata": {},
     "output_type": "execute_result"
    }
   ],
   "source": [
    "1==1"
   ]
  },
  {
   "cell_type": "code",
   "execution_count": 93,
   "id": "10807388",
   "metadata": {},
   "outputs": [],
   "source": [
    "b=None"
   ]
  },
  {
   "cell_type": "code",
   "execution_count": null,
   "id": "096f00da",
   "metadata": {},
   "outputs": [],
   "source": []
  }
 ],
 "metadata": {
  "kernelspec": {
   "display_name": "Python 3",
   "language": "python",
   "name": "python3"
  },
  "language_info": {
   "codemirror_mode": {
    "name": "ipython",
    "version": 3
   },
   "file_extension": ".py",
   "mimetype": "text/x-python",
   "name": "python",
   "nbconvert_exporter": "python",
   "pygments_lexer": "ipython3",
   "version": "3.8.8"
  }
 },
 "nbformat": 4,
 "nbformat_minor": 5
}
