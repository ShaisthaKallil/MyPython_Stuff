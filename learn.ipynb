{
 "cells": [
  {
   "cell_type": "code",
   "execution_count": 1,
   "id": "698c5def",
   "metadata": {},
   "outputs": [
    {
     "data": {
      "text/plain": [
       "5.551115123125783e-17"
      ]
     },
     "execution_count": 1,
     "metadata": {},
     "output_type": "execute_result"
    }
   ],
   "source": [
    "0.1+0.2-0.3"
   ]
  },
  {
   "cell_type": "code",
   "execution_count": 2,
   "id": "0a069141",
   "metadata": {},
   "outputs": [
    {
     "data": {
      "text/plain": [
       "0"
      ]
     },
     "execution_count": 2,
     "metadata": {},
     "output_type": "execute_result"
    }
   ],
   "source": [
    "int(0.1+0.2-0.3)"
   ]
  },
  {
   "cell_type": "code",
   "execution_count": 3,
   "id": "7bb0f94a",
   "metadata": {},
   "outputs": [
    {
     "data": {
      "text/plain": [
       "0.5"
      ]
     },
     "execution_count": 3,
     "metadata": {},
     "output_type": "execute_result"
    }
   ],
   "source": [
    "1/2"
   ]
  },
  {
   "cell_type": "code",
   "execution_count": 4,
   "id": "f75dc4e8",
   "metadata": {},
   "outputs": [],
   "source": [
    "my_income = 100\n",
    "\n",
    "tax_rate = 0.1\n",
    "\n",
    "my_taxes = my_income * tax_rate\n",
    "\n"
   ]
  },
  {
   "cell_type": "code",
   "execution_count": 5,
   "id": "ed9821cc",
   "metadata": {},
   "outputs": [
    {
     "data": {
      "text/plain": [
       "10.0"
      ]
     },
     "execution_count": 5,
     "metadata": {},
     "output_type": "execute_result"
    }
   ],
   "source": [
    "my_taxes"
   ]
  },
  {
   "cell_type": "code",
   "execution_count": 6,
   "id": "e0b4d9b7",
   "metadata": {},
   "outputs": [
    {
     "data": {
      "text/plain": [
       "float"
      ]
     },
     "execution_count": 6,
     "metadata": {},
     "output_type": "execute_result"
    }
   ],
   "source": [
    "type(my_taxes)"
   ]
  },
  {
   "cell_type": "markdown",
   "id": "502ab36b",
   "metadata": {},
   "source": [
    "STRINGS"
   ]
  },
  {
   "cell_type": "code",
   "execution_count": 7,
   "id": "e3d78f18",
   "metadata": {},
   "outputs": [
    {
     "name": "stdout",
     "output_type": "stream",
     "text": [
      "hello\n"
     ]
    }
   ],
   "source": [
    "print(\"hello\")"
   ]
  },
  {
   "cell_type": "code",
   "execution_count": 8,
   "id": "43e0365d",
   "metadata": {},
   "outputs": [
    {
     "name": "stdout",
     "output_type": "stream",
     "text": [
      "hello \n",
      " world\n"
     ]
    }
   ],
   "source": [
    "print(\"hello \\n world\")"
   ]
  },
  {
   "cell_type": "code",
   "execution_count": 9,
   "id": "3cdb7e7c",
   "metadata": {},
   "outputs": [
    {
     "data": {
      "text/plain": [
       "5"
      ]
     },
     "execution_count": 9,
     "metadata": {},
     "output_type": "execute_result"
    }
   ],
   "source": [
    "len(\"hello\")"
   ]
  },
  {
   "cell_type": "code",
   "execution_count": 10,
   "id": "ade0599c",
   "metadata": {},
   "outputs": [
    {
     "data": {
      "text/plain": [
       "4"
      ]
     },
     "execution_count": 10,
     "metadata": {},
     "output_type": "execute_result"
    }
   ],
   "source": [
    "len(\"I am\")"
   ]
  },
  {
   "cell_type": "code",
   "execution_count": 11,
   "id": "cd067648",
   "metadata": {},
   "outputs": [
    {
     "name": "stdout",
     "output_type": "stream",
     "text": [
      "Hello World\n"
     ]
    }
   ],
   "source": [
    "print(\"Hello World\")"
   ]
  },
  {
   "cell_type": "markdown",
   "id": "3b5ac4ed",
   "metadata": {},
   "source": [
    "INDEXING"
   ]
  },
  {
   "cell_type": "code",
   "execution_count": 12,
   "id": "a5a8dad5",
   "metadata": {},
   "outputs": [],
   "source": [
    "mystring = \"Hello Me\""
   ]
  },
  {
   "cell_type": "code",
   "execution_count": 13,
   "id": "7a7df562",
   "metadata": {},
   "outputs": [
    {
     "data": {
      "text/plain": [
       "'H'"
      ]
     },
     "execution_count": 13,
     "metadata": {},
     "output_type": "execute_result"
    }
   ],
   "source": [
    "mystring[0]"
   ]
  },
  {
   "cell_type": "code",
   "execution_count": 14,
   "id": "1d797c85",
   "metadata": {},
   "outputs": [
    {
     "data": {
      "text/plain": [
       "'M'"
      ]
     },
     "execution_count": 14,
     "metadata": {},
     "output_type": "execute_result"
    }
   ],
   "source": [
    "mystring[-2]"
   ]
  },
  {
   "cell_type": "markdown",
   "id": "cff574ae",
   "metadata": {},
   "source": [
    "SLICING"
   ]
  },
  {
   "cell_type": "code",
   "execution_count": 15,
   "id": "b82ecdbd",
   "metadata": {},
   "outputs": [],
   "source": [
    "mystring = \"abcdefghijk\""
   ]
  },
  {
   "cell_type": "code",
   "execution_count": 16,
   "id": "1a7bb2f8",
   "metadata": {},
   "outputs": [
    {
     "data": {
      "text/plain": [
       "'cdefghijk'"
      ]
     },
     "execution_count": 16,
     "metadata": {},
     "output_type": "execute_result"
    }
   ],
   "source": [
    "mystring[2:]"
   ]
  },
  {
   "cell_type": "code",
   "execution_count": 17,
   "id": "bea17ce9",
   "metadata": {},
   "outputs": [
    {
     "data": {
      "text/plain": [
       "'abc'"
      ]
     },
     "execution_count": 17,
     "metadata": {},
     "output_type": "execute_result"
    }
   ],
   "source": [
    "mystring[:3]"
   ]
  },
  {
   "cell_type": "code",
   "execution_count": 18,
   "id": "17cb0e5a",
   "metadata": {},
   "outputs": [
    {
     "data": {
      "text/plain": [
       "'abcdefghijk'"
      ]
     },
     "execution_count": 18,
     "metadata": {},
     "output_type": "execute_result"
    }
   ],
   "source": [
    "mystring[:]"
   ]
  },
  {
   "cell_type": "code",
   "execution_count": 19,
   "id": "61b6c18d",
   "metadata": {},
   "outputs": [
    {
     "data": {
      "text/plain": [
       "'def'"
      ]
     },
     "execution_count": 19,
     "metadata": {},
     "output_type": "execute_result"
    }
   ],
   "source": [
    "mystring[3:6]"
   ]
  },
  {
   "cell_type": "code",
   "execution_count": 20,
   "id": "4eb2e9c8",
   "metadata": {},
   "outputs": [
    {
     "data": {
      "text/plain": [
       "'bc'"
      ]
     },
     "execution_count": 20,
     "metadata": {},
     "output_type": "execute_result"
    }
   ],
   "source": [
    "mystring[1:3]"
   ]
  },
  {
   "cell_type": "code",
   "execution_count": 21,
   "id": "4a3d9196",
   "metadata": {},
   "outputs": [
    {
     "data": {
      "text/plain": [
       "'abcdefghijk'"
      ]
     },
     "execution_count": 21,
     "metadata": {},
     "output_type": "execute_result"
    }
   ],
   "source": [
    "mystring[::]"
   ]
  },
  {
   "cell_type": "code",
   "execution_count": 22,
   "id": "e350c718",
   "metadata": {},
   "outputs": [
    {
     "data": {
      "text/plain": [
       "'adgj'"
      ]
     },
     "execution_count": 22,
     "metadata": {},
     "output_type": "execute_result"
    }
   ],
   "source": [
    "mystring[::3]"
   ]
  },
  {
   "cell_type": "code",
   "execution_count": 23,
   "id": "43ef0a6c",
   "metadata": {},
   "outputs": [
    {
     "data": {
      "text/plain": [
       "'ceg'"
      ]
     },
     "execution_count": 23,
     "metadata": {},
     "output_type": "execute_result"
    }
   ],
   "source": [
    "mystring[2:7:2]"
   ]
  },
  {
   "cell_type": "code",
   "execution_count": 24,
   "id": "5b912b81",
   "metadata": {},
   "outputs": [
    {
     "data": {
      "text/plain": [
       "'kjihgfedcba'"
      ]
     },
     "execution_count": 24,
     "metadata": {},
     "output_type": "execute_result"
    }
   ],
   "source": [
    "mystring[::-1]"
   ]
  },
  {
   "cell_type": "code",
   "execution_count": 25,
   "id": "4e031908",
   "metadata": {},
   "outputs": [
    {
     "data": {
      "text/plain": [
       "'r'"
      ]
     },
     "execution_count": 25,
     "metadata": {},
     "output_type": "execute_result"
    }
   ],
   "source": [
    "'Hello World'[8]"
   ]
  },
  {
   "cell_type": "code",
   "execution_count": 26,
   "id": "e8007f07",
   "metadata": {},
   "outputs": [
    {
     "data": {
      "text/plain": [
       "'ink'"
      ]
     },
     "execution_count": 26,
     "metadata": {},
     "output_type": "execute_result"
    }
   ],
   "source": [
    "'tinker'[1:4]"
   ]
  },
  {
   "cell_type": "markdown",
   "id": "b73d3bb4",
   "metadata": {},
   "source": [
    "CONCATENATION OF STRINGS"
   ]
  },
  {
   "cell_type": "code",
   "execution_count": 27,
   "id": "83d7494d",
   "metadata": {},
   "outputs": [],
   "source": [
    "name = \"Sam\""
   ]
  },
  {
   "cell_type": "code",
   "execution_count": 28,
   "id": "4424f055",
   "metadata": {},
   "outputs": [
    {
     "data": {
      "text/plain": [
       "'Pam'"
      ]
     },
     "execution_count": 28,
     "metadata": {},
     "output_type": "execute_result"
    }
   ],
   "source": [
    "last_letters = name[1:]\n",
    "'P'+ last_letters"
   ]
  },
  {
   "cell_type": "code",
   "execution_count": 29,
   "id": "bb9fa0d8",
   "metadata": {},
   "outputs": [
    {
     "data": {
      "text/plain": [
       "'Hello World ! It is beautiful outside'"
      ]
     },
     "execution_count": 29,
     "metadata": {},
     "output_type": "execute_result"
    }
   ],
   "source": [
    "x = \"Hello World !\"\n",
    "x + \" It is beautiful outside\""
   ]
  },
  {
   "cell_type": "code",
   "execution_count": 30,
   "id": "24dfe301",
   "metadata": {},
   "outputs": [
    {
     "data": {
      "text/plain": [
       "'zzzzzzzzzz'"
      ]
     },
     "execution_count": 30,
     "metadata": {},
     "output_type": "execute_result"
    }
   ],
   "source": [
    "letter = 'z'\n",
    "letter * 10"
   ]
  },
  {
   "cell_type": "code",
   "execution_count": 31,
   "id": "6283ec18",
   "metadata": {},
   "outputs": [
    {
     "data": {
      "text/plain": [
       "'HELLO WORLD'"
      ]
     },
     "execution_count": 31,
     "metadata": {},
     "output_type": "execute_result"
    }
   ],
   "source": [
    "x = \"Hello World\"\n",
    "x.upper()"
   ]
  },
  {
   "cell_type": "code",
   "execution_count": 32,
   "id": "8bcae902",
   "metadata": {},
   "outputs": [
    {
     "data": {
      "text/plain": [
       "'hello world'"
      ]
     },
     "execution_count": 32,
     "metadata": {},
     "output_type": "execute_result"
    }
   ],
   "source": [
    "x.lower()"
   ]
  },
  {
   "cell_type": "code",
   "execution_count": 33,
   "id": "308f7f30",
   "metadata": {},
   "outputs": [
    {
     "data": {
      "text/plain": [
       "['Hello', 'World']"
      ]
     },
     "execution_count": 33,
     "metadata": {},
     "output_type": "execute_result"
    }
   ],
   "source": [
    "x.split()"
   ]
  },
  {
   "cell_type": "code",
   "execution_count": 36,
   "id": "5ea45434",
   "metadata": {},
   "outputs": [
    {
     "data": {
      "text/plain": [
       "['H', ' th', 's ', 's me']"
      ]
     },
     "execution_count": 36,
     "metadata": {},
     "output_type": "execute_result"
    }
   ],
   "source": [
    "y = \"Hi this is me\"\n",
    "y.split('i')"
   ]
  },
  {
   "cell_type": "markdown",
   "id": "6fc82acd",
   "metadata": {},
   "source": [
    "STRING INTERPOLATION - PRINT VARIABLES WITHIN STRING"
   ]
  },
  {
   "cell_type": "code",
   "execution_count": 37,
   "id": "e7fd0bd7",
   "metadata": {},
   "outputs": [
    {
     "name": "stdout",
     "output_type": "stream",
     "text": [
      "This is a string INSERTED\n"
     ]
    }
   ],
   "source": [
    "print('This is a string {}'.format('INSERTED'))"
   ]
  },
  {
   "cell_type": "code",
   "execution_count": 38,
   "id": "e5f8ac24",
   "metadata": {},
   "outputs": [
    {
     "name": "stdout",
     "output_type": "stream",
     "text": [
      "The quick brown  fox\n"
     ]
    }
   ],
   "source": [
    "print(\"The {1} {2}  {0}\".format('fox', 'quick', 'brown'))"
   ]
  },
  {
   "cell_type": "code",
   "execution_count": 39,
   "id": "73e1147e",
   "metadata": {},
   "outputs": [
    {
     "name": "stdout",
     "output_type": "stream",
     "text": [
      "The quick brown fox\n"
     ]
    }
   ],
   "source": [
    "print('The {a} {b} {c}'.format(a = 'quick', b = 'brown', c = 'fox'))"
   ]
  },
  {
   "cell_type": "markdown",
   "id": "86ff7b7e",
   "metadata": {},
   "source": [
    "LIMITING THE DISPLAYED FLOAT VALUE"
   ]
  },
  {
   "cell_type": "code",
   "execution_count": 40,
   "id": "a2089662",
   "metadata": {},
   "outputs": [],
   "source": [
    "result = 100/777"
   ]
  },
  {
   "cell_type": "code",
   "execution_count": 41,
   "id": "9d915019",
   "metadata": {},
   "outputs": [
    {
     "data": {
      "text/plain": [
       "0.1287001287001287"
      ]
     },
     "execution_count": 41,
     "metadata": {},
     "output_type": "execute_result"
    }
   ],
   "source": [
    "result"
   ]
  },
  {
   "cell_type": "code",
   "execution_count": 42,
   "id": "573f405d",
   "metadata": {},
   "outputs": [
    {
     "name": "stdout",
     "output_type": "stream",
     "text": [
      "The result is 0.129\n"
     ]
    }
   ],
   "source": [
    "print(\"The result is {r:1.3f}\".format(r=result))"
   ]
  },
  {
   "cell_type": "code",
   "execution_count": 43,
   "id": "6a71a7af",
   "metadata": {},
   "outputs": [
    {
     "name": "stdout",
     "output_type": "stream",
     "text": [
      "Python rules!\n"
     ]
    }
   ],
   "source": [
    "print('Python {r}'.format(r ='rules!'))"
   ]
  },
  {
   "cell_type": "markdown",
   "id": "2025869e",
   "metadata": {},
   "source": [
    "LISTS"
   ]
  },
  {
   "cell_type": "code",
   "execution_count": 44,
   "id": "3161d6cc",
   "metadata": {},
   "outputs": [],
   "source": [
    "my_list = ['STRING',100,23.8]"
   ]
  },
  {
   "cell_type": "code",
   "execution_count": 45,
   "id": "3a65de48",
   "metadata": {},
   "outputs": [
    {
     "data": {
      "text/plain": [
       "3"
      ]
     },
     "execution_count": 45,
     "metadata": {},
     "output_type": "execute_result"
    }
   ],
   "source": [
    "len(my_list)"
   ]
  },
  {
   "cell_type": "code",
   "execution_count": 46,
   "id": "2485d8a2",
   "metadata": {},
   "outputs": [
    {
     "data": {
      "text/plain": [
       "['STRING', 100, 23.8]"
      ]
     },
     "execution_count": 46,
     "metadata": {},
     "output_type": "execute_result"
    }
   ],
   "source": [
    "my_list"
   ]
  },
  {
   "cell_type": "code",
   "execution_count": 47,
   "id": "34528509",
   "metadata": {},
   "outputs": [
    {
     "data": {
      "text/plain": [
       "'STRING'"
      ]
     },
     "execution_count": 47,
     "metadata": {},
     "output_type": "execute_result"
    }
   ],
   "source": [
    "my_list[0]"
   ]
  },
  {
   "cell_type": "code",
   "execution_count": 48,
   "id": "6832754d",
   "metadata": {},
   "outputs": [
    {
     "data": {
      "text/plain": [
       "[100, 23.8]"
      ]
     },
     "execution_count": 48,
     "metadata": {},
     "output_type": "execute_result"
    }
   ],
   "source": [
    "my_list[1:]"
   ]
  },
  {
   "cell_type": "markdown",
   "id": "e6b16d78",
   "metadata": {},
   "source": [
    "Concatenate Lists"
   ]
  },
  {
   "cell_type": "code",
   "execution_count": 49,
   "id": "d3525cc7",
   "metadata": {},
   "outputs": [],
   "source": [
    "my_list_next = ['one','two']"
   ]
  },
  {
   "cell_type": "code",
   "execution_count": 50,
   "id": "e0fec485",
   "metadata": {},
   "outputs": [
    {
     "data": {
      "text/plain": [
       "['STRING', 100, 23.8, 'one', 'two']"
      ]
     },
     "execution_count": 50,
     "metadata": {},
     "output_type": "execute_result"
    }
   ],
   "source": [
    "my_list + my_list_next"
   ]
  },
  {
   "cell_type": "markdown",
   "id": "c97bc73c",
   "metadata": {},
   "source": [
    "Mutate"
   ]
  },
  {
   "cell_type": "code",
   "execution_count": 51,
   "id": "7cd6505a",
   "metadata": {},
   "outputs": [],
   "source": [
    "my_list[0] = \"hello\""
   ]
  },
  {
   "cell_type": "code",
   "execution_count": 52,
   "id": "c7f65b23",
   "metadata": {},
   "outputs": [
    {
     "data": {
      "text/plain": [
       "['hello', 100, 23.8]"
      ]
     },
     "execution_count": 52,
     "metadata": {},
     "output_type": "execute_result"
    }
   ],
   "source": [
    "my_list"
   ]
  },
  {
   "cell_type": "code",
   "execution_count": 53,
   "id": "0f6a38f0",
   "metadata": {},
   "outputs": [],
   "source": [
    "my_list.append(89)"
   ]
  },
  {
   "cell_type": "code",
   "execution_count": 54,
   "id": "db9c34f1",
   "metadata": {},
   "outputs": [
    {
     "data": {
      "text/plain": [
       "['hello', 100, 23.8, 89]"
      ]
     },
     "execution_count": 54,
     "metadata": {},
     "output_type": "execute_result"
    }
   ],
   "source": [
    "my_list"
   ]
  },
  {
   "cell_type": "code",
   "execution_count": 55,
   "id": "cdea124d",
   "metadata": {},
   "outputs": [],
   "source": [
    "popped = my_list.pop()"
   ]
  },
  {
   "cell_type": "code",
   "execution_count": 56,
   "id": "32c66b87",
   "metadata": {},
   "outputs": [
    {
     "data": {
      "text/plain": [
       "89"
      ]
     },
     "execution_count": 56,
     "metadata": {},
     "output_type": "execute_result"
    }
   ],
   "source": [
    "popped"
   ]
  },
  {
   "cell_type": "code",
   "execution_count": 57,
   "id": "47ba52fb",
   "metadata": {},
   "outputs": [],
   "source": [
    "pop_two_index = my_list.pop(2)"
   ]
  },
  {
   "cell_type": "code",
   "execution_count": 58,
   "id": "a81446b3",
   "metadata": {},
   "outputs": [
    {
     "data": {
      "text/plain": [
       "23.8"
      ]
     },
     "execution_count": 58,
     "metadata": {},
     "output_type": "execute_result"
    }
   ],
   "source": [
    "pop_two_index"
   ]
  },
  {
   "cell_type": "code",
   "execution_count": 59,
   "id": "10d86c70",
   "metadata": {},
   "outputs": [
    {
     "data": {
      "text/plain": [
       "['hello', 100]"
      ]
     },
     "execution_count": 59,
     "metadata": {},
     "output_type": "execute_result"
    }
   ],
   "source": [
    "my_list"
   ]
  },
  {
   "cell_type": "code",
   "execution_count": 60,
   "id": "73cbfd4d",
   "metadata": {},
   "outputs": [],
   "source": [
    "new_list = ['a','x','m']\n",
    "new_list.sort()"
   ]
  },
  {
   "cell_type": "code",
   "execution_count": 61,
   "id": "858233c5",
   "metadata": {},
   "outputs": [
    {
     "data": {
      "text/plain": [
       "['a', 'm', 'x']"
      ]
     },
     "execution_count": 61,
     "metadata": {},
     "output_type": "execute_result"
    }
   ],
   "source": [
    "new_list"
   ]
  },
  {
   "cell_type": "code",
   "execution_count": 62,
   "id": "772c161c",
   "metadata": {},
   "outputs": [],
   "source": [
    "new_list = [1234,3543,89,3453]\n",
    "new_list.sort()"
   ]
  },
  {
   "cell_type": "code",
   "execution_count": 63,
   "id": "7db7f28c",
   "metadata": {},
   "outputs": [
    {
     "data": {
      "text/plain": [
       "[89, 1234, 3453, 3543]"
      ]
     },
     "execution_count": 63,
     "metadata": {},
     "output_type": "execute_result"
    }
   ],
   "source": [
    "new_list"
   ]
  },
  {
   "cell_type": "code",
   "execution_count": 64,
   "id": "fd49d119",
   "metadata": {},
   "outputs": [
    {
     "data": {
      "text/plain": [
       "[3543, 3453, 1234, 89]"
      ]
     },
     "execution_count": 64,
     "metadata": {},
     "output_type": "execute_result"
    }
   ],
   "source": [
    "new_list.reverse()\n",
    "new_list"
   ]
  },
  {
   "cell_type": "markdown",
   "id": "d4a45bec",
   "metadata": {},
   "source": [
    "DICTIONARIES"
   ]
  },
  {
   "cell_type": "code",
   "execution_count": 65,
   "id": "13d559a3",
   "metadata": {},
   "outputs": [
    {
     "ename": "NameError",
     "evalue": "name 'oranges' is not defined",
     "output_type": "error",
     "traceback": [
      "\u001b[1;31m---------------------------------------------------------------------------\u001b[0m",
      "\u001b[1;31mNameError\u001b[0m                                 Traceback (most recent call last)",
      "\u001b[1;32m<ipython-input-65-d0339dc0cd98>\u001b[0m in \u001b[0;36m<module>\u001b[1;34m\u001b[0m\n\u001b[0;32m      1\u001b[0m \u001b[0mprice_lookup\u001b[0m \u001b[1;33m=\u001b[0m \u001b[1;33m{\u001b[0m\u001b[1;34m'apple'\u001b[0m\u001b[1;33m:\u001b[0m\u001b[1;36m4.60\u001b[0m\u001b[1;33m,\u001b[0m \u001b[1;34m'oranges'\u001b[0m\u001b[1;33m:\u001b[0m\u001b[1;36m2.30\u001b[0m\u001b[1;33m,\u001b[0m \u001b[1;34m'tomato'\u001b[0m\u001b[1;33m:\u001b[0m\u001b[1;36m5.00\u001b[0m\u001b[1;33m}\u001b[0m\u001b[1;33m\u001b[0m\u001b[1;33m\u001b[0m\u001b[0m\n\u001b[1;32m----> 2\u001b[1;33m \u001b[0mprice_lookup\u001b[0m\u001b[1;33m[\u001b[0m\u001b[0moranges\u001b[0m\u001b[1;33m]\u001b[0m\u001b[1;33m\u001b[0m\u001b[1;33m\u001b[0m\u001b[0m\n\u001b[0m",
      "\u001b[1;31mNameError\u001b[0m: name 'oranges' is not defined"
     ]
    }
   ],
   "source": [
    "price_lookup = {'apple':4.60, 'oranges':2.30, 'tomato':5.00}\n",
    "price_lookup[oranges]"
   ]
  },
  {
   "cell_type": "code",
   "execution_count": 66,
   "id": "4044cf67",
   "metadata": {},
   "outputs": [
    {
     "data": {
      "text/plain": [
       "2.3"
      ]
     },
     "execution_count": 66,
     "metadata": {},
     "output_type": "execute_result"
    }
   ],
   "source": [
    "price_lookup['oranges']"
   ]
  },
  {
   "cell_type": "code",
   "execution_count": 67,
   "id": "e41101d2",
   "metadata": {},
   "outputs": [
    {
     "data": {
      "text/plain": [
       "['re', 453, 32.33]"
      ]
     },
     "execution_count": 67,
     "metadata": {},
     "output_type": "execute_result"
    }
   ],
   "source": [
    "d = {'k1':3424, 'k2':['re',453,32.33], 'k3':'hello'}\n",
    "d['k2']"
   ]
  },
  {
   "cell_type": "code",
   "execution_count": 68,
   "id": "70eb8632",
   "metadata": {},
   "outputs": [
    {
     "data": {
      "text/plain": [
       "['apple', 'boat', 'cat']"
      ]
     },
     "execution_count": 68,
     "metadata": {},
     "output_type": "execute_result"
    }
   ],
   "source": [
    "d = {'key1':['apple', 'boat', 'cat']}\n",
    "my_lst = d['key1']\n",
    "my_lst"
   ]
  },
  {
   "cell_type": "code",
   "execution_count": 69,
   "id": "a1043d7b",
   "metadata": {},
   "outputs": [
    {
     "data": {
      "text/plain": [
       "'CAT'"
      ]
     },
     "execution_count": 69,
     "metadata": {},
     "output_type": "execute_result"
    }
   ],
   "source": [
    "temp = my_lst[2].upper()\n",
    "temp"
   ]
  },
  {
   "cell_type": "code",
   "execution_count": 70,
   "id": "5a480895",
   "metadata": {},
   "outputs": [
    {
     "data": {
      "text/plain": [
       "'Cat'"
      ]
     },
     "execution_count": 70,
     "metadata": {},
     "output_type": "execute_result"
    }
   ],
   "source": [
    "hold = temp[0]\n",
    "holdn= temp[1:].lower()\n",
    "hold + holdn\n"
   ]
  },
  {
   "cell_type": "code",
   "execution_count": 71,
   "id": "1315457c",
   "metadata": {},
   "outputs": [
    {
     "data": {
      "text/plain": [
       "'CAT'"
      ]
     },
     "execution_count": 71,
     "metadata": {},
     "output_type": "execute_result"
    }
   ],
   "source": [
    "d['key1'][2].upper()"
   ]
  },
  {
   "cell_type": "code",
   "execution_count": 72,
   "id": "848cad72",
   "metadata": {},
   "outputs": [
    {
     "data": {
      "text/plain": [
       "{'key1': ['apple', 'boat', 'cat'], 'key2': 100}"
      ]
     },
     "execution_count": 72,
     "metadata": {},
     "output_type": "execute_result"
    }
   ],
   "source": [
    "d['key2'] = 100\n",
    "d"
   ]
  },
  {
   "cell_type": "code",
   "execution_count": 74,
   "id": "aa1b84bc",
   "metadata": {},
   "outputs": [
    {
     "data": {
      "text/plain": [
       "{'key1': 'SUPER', 'key2': 100}"
      ]
     },
     "execution_count": 74,
     "metadata": {},
     "output_type": "execute_result"
    }
   ],
   "source": [
    "d['key1'] = \"SUPER\"\n",
    "d"
   ]
  },
  {
   "cell_type": "code",
   "execution_count": 75,
   "id": "bb666adb",
   "metadata": {},
   "outputs": [
    {
     "data": {
      "text/plain": [
       "dict_keys(['k1', 'k2', 'k3'])"
      ]
     },
     "execution_count": 75,
     "metadata": {},
     "output_type": "execute_result"
    }
   ],
   "source": [
    "d = {'k1':100, 'k2':200, 'k3':300}\n",
    "d.keys()"
   ]
  },
  {
   "cell_type": "code",
   "execution_count": 76,
   "id": "7ecadd4c",
   "metadata": {},
   "outputs": [
    {
     "data": {
      "text/plain": [
       "dict_values([100, 200, 300])"
      ]
     },
     "execution_count": 76,
     "metadata": {},
     "output_type": "execute_result"
    }
   ],
   "source": [
    "d.values()"
   ]
  },
  {
   "cell_type": "code",
   "execution_count": 77,
   "id": "c0951bcf",
   "metadata": {},
   "outputs": [
    {
     "data": {
      "text/plain": [
       "dict_items([('k1', 100), ('k2', 200), ('k3', 300)])"
      ]
     },
     "execution_count": 77,
     "metadata": {},
     "output_type": "execute_result"
    }
   ],
   "source": [
    "d.items()"
   ]
  },
  {
   "cell_type": "code",
   "execution_count": null,
   "id": "3c8191ea",
   "metadata": {},
   "outputs": [],
   "source": []
  }
 ],
 "metadata": {
  "kernelspec": {
   "display_name": "Python 3",
   "language": "python",
   "name": "python3"
  },
  "language_info": {
   "codemirror_mode": {
    "name": "ipython",
    "version": 3
   },
   "file_extension": ".py",
   "mimetype": "text/x-python",
   "name": "python",
   "nbconvert_exporter": "python",
   "pygments_lexer": "ipython3",
   "version": "3.8.8"
  }
 },
 "nbformat": 4,
 "nbformat_minor": 5
}
