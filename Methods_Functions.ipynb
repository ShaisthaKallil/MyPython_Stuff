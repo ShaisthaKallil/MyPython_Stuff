{
 "cells": [
  {
   "cell_type": "markdown",
   "id": "11f196c0",
   "metadata": {},
   "source": [
    "METHODS"
   ]
  },
  {
   "cell_type": "code",
   "execution_count": 1,
   "id": "e0f83289",
   "metadata": {},
   "outputs": [],
   "source": [
    "mylist = [1,2,3]\n",
    "mylist.append(4)"
   ]
  },
  {
   "cell_type": "code",
   "execution_count": 2,
   "id": "69df77f4",
   "metadata": {},
   "outputs": [
    {
     "data": {
      "text/plain": [
       "[1, 2, 3, 4]"
      ]
     },
     "execution_count": 2,
     "metadata": {},
     "output_type": "execute_result"
    }
   ],
   "source": [
    "mylist"
   ]
  },
  {
   "cell_type": "code",
   "execution_count": 3,
   "id": "7f441c3b",
   "metadata": {},
   "outputs": [
    {
     "data": {
      "text/plain": [
       "4"
      ]
     },
     "execution_count": 3,
     "metadata": {},
     "output_type": "execute_result"
    }
   ],
   "source": [
    "mylist.pop()"
   ]
  },
  {
   "cell_type": "code",
   "execution_count": 5,
   "id": "0b443231",
   "metadata": {},
   "outputs": [
    {
     "name": "stdout",
     "output_type": "stream",
     "text": [
      "Help on built-in function insert:\n",
      "\n",
      "insert(index, object, /) method of builtins.list instance\n",
      "    Insert object before index.\n",
      "\n"
     ]
    }
   ],
   "source": [
    "help(mylist.insert)"
   ]
  },
  {
   "cell_type": "markdown",
   "id": "2d2d1655",
   "metadata": {},
   "source": [
    "FUNCTIONS"
   ]
  },
  {
   "cell_type": "code",
   "execution_count": 6,
   "id": "a406502a",
   "metadata": {},
   "outputs": [],
   "source": [
    "def show_words():\n",
    "    print(\"Hello\")"
   ]
  },
  {
   "cell_type": "code",
   "execution_count": 7,
   "id": "62df736a",
   "metadata": {},
   "outputs": [
    {
     "name": "stdout",
     "output_type": "stream",
     "text": [
      "Hello\n"
     ]
    }
   ],
   "source": [
    "show_words()"
   ]
  },
  {
   "cell_type": "code",
   "execution_count": 8,
   "id": "8f7b102a",
   "metadata": {},
   "outputs": [],
   "source": [
    "def greeting(name):\n",
    "    print(\"Hello \" + name)"
   ]
  },
  {
   "cell_type": "code",
   "execution_count": 10,
   "id": "c82319ab",
   "metadata": {},
   "outputs": [
    {
     "name": "stdout",
     "output_type": "stream",
     "text": [
      "Hello Niju\n"
     ]
    }
   ],
   "source": [
    "greeting(\"Niju\")"
   ]
  },
  {
   "cell_type": "markdown",
   "id": "296027cc",
   "metadata": {},
   "source": [
    "Write a function to return the age of the person after taking year of birth as argument."
   ]
  },
  {
   "cell_type": "code",
   "execution_count": 11,
   "id": "66ce5735",
   "metadata": {},
   "outputs": [],
   "source": [
    "def current_age(year):\n",
    "    age = 2021 - year\n",
    "    return age\n"
   ]
  },
  {
   "cell_type": "code",
   "execution_count": 15,
   "id": "d8c6de84",
   "metadata": {},
   "outputs": [
    {
     "name": "stdout",
     "output_type": "stream",
     "text": [
      "You are 91 Years old\n"
     ]
    }
   ],
   "source": [
    "old = current_age(1930)\n",
    "print(f'You are {old} Years old')"
   ]
  },
  {
   "cell_type": "markdown",
   "id": "cf5c5176",
   "metadata": {},
   "source": [
    "Add 2 user input number arguments and print sum using function"
   ]
  },
  {
   "cell_type": "code",
   "execution_count": 16,
   "id": "6c392397",
   "metadata": {},
   "outputs": [],
   "source": [
    "def sum_t(num1,num2):\n",
    "    return num1 + num2\n",
    "    "
   ]
  },
  {
   "cell_type": "code",
   "execution_count": 17,
   "id": "d9f01ac6",
   "metadata": {},
   "outputs": [],
   "source": [
    "answer = sum_t(34,54)"
   ]
  },
  {
   "cell_type": "code",
   "execution_count": 21,
   "id": "c197053c",
   "metadata": {},
   "outputs": [
    {
     "name": "stdout",
     "output_type": "stream",
     "text": [
      "Sum is 88\n"
     ]
    }
   ],
   "source": [
    "print(f'Sum is {answer}')"
   ]
  },
  {
   "cell_type": "markdown",
   "id": "05cf337e",
   "metadata": {},
   "source": [
    "Functions With Logic"
   ]
  },
  {
   "cell_type": "markdown",
   "id": "eecc3b6b",
   "metadata": {},
   "source": [
    "Check whether the number is even"
   ]
  },
  {
   "cell_type": "code",
   "execution_count": 22,
   "id": "b862e80e",
   "metadata": {},
   "outputs": [],
   "source": [
    "def is_even(num):\n",
    "    if num%2 == 0:\n",
    "        return True\n",
    "    else:\n",
    "        return False\n",
    "    "
   ]
  },
  {
   "cell_type": "code",
   "execution_count": 24,
   "id": "3379d549",
   "metadata": {},
   "outputs": [
    {
     "name": "stdout",
     "output_type": "stream",
     "text": [
      "True\n"
     ]
    }
   ],
   "source": [
    "result = is_even(2)\n",
    "\n",
    "print(result)"
   ]
  },
  {
   "cell_type": "code",
   "execution_count": null,
   "id": "d723c436",
   "metadata": {},
   "outputs": [],
   "source": []
  },
  {
   "cell_type": "markdown",
   "id": "89a5ae5e",
   "metadata": {},
   "source": [
    "#RETURN all even numbers as a list from the original list"
   ]
  },
  {
   "cell_type": "code",
   "execution_count": 21,
   "id": "ac2d3b74",
   "metadata": {},
   "outputs": [],
   "source": [
    "my_list = [1,45,76,864,33,11,55,57]\n",
    "\n",
    "\n",
    "def even_present(lst):\n",
    "    #return all the even numbers in the list\n",
    "    hold = []\n",
    "    for x in lst:\n",
    "        if x%2 ==0:\n",
    "            hold.append(x)\n",
    "        else:\n",
    "            pass\n",
    "    return hold\n",
    "  "
   ]
  },
  {
   "cell_type": "code",
   "execution_count": 22,
   "id": "2cab93ae",
   "metadata": {},
   "outputs": [
    {
     "data": {
      "text/plain": [
       "[76, 864]"
      ]
     },
     "execution_count": 22,
     "metadata": {},
     "output_type": "execute_result"
    }
   ],
   "source": [
    "even_present(my_list)"
   ]
  },
  {
   "cell_type": "markdown",
   "id": "9aa9b095",
   "metadata": {},
   "source": [
    "#RETURN TRUE IF ANY NUMBER IS EVEN INSIDE A LIST\n",
    "\n",
    "my_list = [1,45,76,864,33,11,55,57]\n",
    "\n",
    "\n",
    "def even_present(lst):\n",
    "    #return all the even numbers in the list\n",
    "    for x in lst:\n",
    "        if x%2 ==0:\n",
    "            return True\n",
    "        else:\n",
    "            pass\n",
    "    return False\n",
    "\n",
    "even_present(my_list)"
   ]
  },
  {
   "cell_type": "markdown",
   "id": "be697a57",
   "metadata": {},
   "source": [
    "TUPLES"
   ]
  },
  {
   "cell_type": "code",
   "execution_count": 23,
   "id": "efe675f8",
   "metadata": {},
   "outputs": [],
   "source": [
    "stock_prices = [('APPL',200),('GOOG',400),('MSFT',100)]"
   ]
  },
  {
   "cell_type": "code",
   "execution_count": 24,
   "id": "cf6a3bf4",
   "metadata": {},
   "outputs": [
    {
     "name": "stdout",
     "output_type": "stream",
     "text": [
      "('APPL', 200)\n",
      "('GOOG', 400)\n",
      "('MSFT', 100)\n"
     ]
    }
   ],
   "source": [
    "for item in stock_prices:\n",
    "    print(item)"
   ]
  },
  {
   "cell_type": "code",
   "execution_count": 25,
   "id": "bc0f2033",
   "metadata": {},
   "outputs": [
    {
     "name": "stdout",
     "output_type": "stream",
     "text": [
      "APPL\n",
      "GOOG\n",
      "MSFT\n"
     ]
    }
   ],
   "source": [
    "for ticker, price in stock_prices:\n",
    "    print(ticker)"
   ]
  },
  {
   "cell_type": "code",
   "execution_count": 26,
   "id": "d2a5effd",
   "metadata": {},
   "outputs": [
    {
     "name": "stdout",
     "output_type": "stream",
     "text": [
      "200\n",
      "400\n",
      "100\n"
     ]
    }
   ],
   "source": [
    "for ticker, price in stock_prices:\n",
    "    print(price)"
   ]
  },
  {
   "cell_type": "markdown",
   "id": "26533be6",
   "metadata": {},
   "source": [
    "#Manipulate objects inside the tuples"
   ]
  },
  {
   "cell_type": "code",
   "execution_count": 27,
   "id": "2eb7e65e",
   "metadata": {},
   "outputs": [
    {
     "name": "stdout",
     "output_type": "stream",
     "text": [
      "220.0\n",
      "440.0\n",
      "110.0\n"
     ]
    }
   ],
   "source": [
    "for ticker, price in stock_prices:\n",
    "    print(price+(0.1*price))"
   ]
  },
  {
   "cell_type": "code",
   "execution_count": null,
   "id": "7eaced68",
   "metadata": {},
   "outputs": [],
   "source": []
  }
 ],
 "metadata": {
  "kernelspec": {
   "display_name": "Python 3",
   "language": "python",
   "name": "python3"
  },
  "language_info": {
   "codemirror_mode": {
    "name": "ipython",
    "version": 3
   },
   "file_extension": ".py",
   "mimetype": "text/x-python",
   "name": "python",
   "nbconvert_exporter": "python",
   "pygments_lexer": "ipython3",
   "version": "3.8.8"
  }
 },
 "nbformat": 4,
 "nbformat_minor": 5
}
