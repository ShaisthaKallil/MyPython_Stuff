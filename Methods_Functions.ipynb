{
 "cells": [
  {
   "cell_type": "markdown",
   "id": "ded0e76b",
   "metadata": {},
   "source": [
    "METHODS"
   ]
  },
  {
   "cell_type": "code",
   "execution_count": 1,
   "id": "4cde1541",
   "metadata": {},
   "outputs": [],
   "source": [
    "mylist = [1,2,3]\n",
    "mylist.append(4)"
   ]
  },
  {
   "cell_type": "code",
   "execution_count": 2,
   "id": "8728d5db",
   "metadata": {},
   "outputs": [
    {
     "data": {
      "text/plain": [
       "[1, 2, 3, 4]"
      ]
     },
     "execution_count": 2,
     "metadata": {},
     "output_type": "execute_result"
    }
   ],
   "source": [
    "mylist"
   ]
  },
  {
   "cell_type": "code",
   "execution_count": 3,
   "id": "ee3a00be",
   "metadata": {},
   "outputs": [
    {
     "data": {
      "text/plain": [
       "4"
      ]
     },
     "execution_count": 3,
     "metadata": {},
     "output_type": "execute_result"
    }
   ],
   "source": [
    "mylist.pop()"
   ]
  },
  {
   "cell_type": "code",
   "execution_count": 5,
   "id": "e77e8941",
   "metadata": {},
   "outputs": [
    {
     "name": "stdout",
     "output_type": "stream",
     "text": [
      "Help on built-in function insert:\n",
      "\n",
      "insert(index, object, /) method of builtins.list instance\n",
      "    Insert object before index.\n",
      "\n"
     ]
    }
   ],
   "source": [
    "help(mylist.insert)"
   ]
  },
  {
   "cell_type": "markdown",
   "id": "d6f48036",
   "metadata": {},
   "source": [
    "FUNCTIONS"
   ]
  },
  {
   "cell_type": "code",
   "execution_count": 6,
   "id": "4c20a7f1",
   "metadata": {},
   "outputs": [],
   "source": [
    "def show_words():\n",
    "    print(\"Hello\")"
   ]
  },
  {
   "cell_type": "code",
   "execution_count": 7,
   "id": "1be6763c",
   "metadata": {},
   "outputs": [
    {
     "name": "stdout",
     "output_type": "stream",
     "text": [
      "Hello\n"
     ]
    }
   ],
   "source": [
    "show_words()"
   ]
  },
  {
   "cell_type": "code",
   "execution_count": 8,
   "id": "6b6a5e34",
   "metadata": {},
   "outputs": [],
   "source": [
    "def greeting(name):\n",
    "    print(\"Hello \" + name)"
   ]
  },
  {
   "cell_type": "code",
   "execution_count": 10,
   "id": "b60295a5",
   "metadata": {},
   "outputs": [
    {
     "name": "stdout",
     "output_type": "stream",
     "text": [
      "Hello Niju\n"
     ]
    }
   ],
   "source": [
    "greeting(\"Niju\")"
   ]
  },
  {
   "cell_type": "markdown",
   "id": "67983cba",
   "metadata": {},
   "source": [
    "Write a function to return the age of the person after taking year of birth as argument."
   ]
  },
  {
   "cell_type": "code",
   "execution_count": 11,
   "id": "4d8514c9",
   "metadata": {},
   "outputs": [],
   "source": [
    "def current_age(year):\n",
    "    age = 2021 - year\n",
    "    return age\n"
   ]
  },
  {
   "cell_type": "code",
   "execution_count": 15,
   "id": "e86f4437",
   "metadata": {},
   "outputs": [
    {
     "name": "stdout",
     "output_type": "stream",
     "text": [
      "You are 91 Years old\n"
     ]
    }
   ],
   "source": [
    "old = current_age(1930)\n",
    "print(f'You are {old} Years old')"
   ]
  },
  {
   "cell_type": "markdown",
   "id": "f57f3073",
   "metadata": {},
   "source": [
    "Add 2 user input number arguments and print sum using function"
   ]
  },
  {
   "cell_type": "code",
   "execution_count": 16,
   "id": "973184e4",
   "metadata": {},
   "outputs": [],
   "source": [
    "def sum_t(num1,num2):\n",
    "    return num1 + num2\n",
    "    "
   ]
  },
  {
   "cell_type": "code",
   "execution_count": 17,
   "id": "2a749507",
   "metadata": {},
   "outputs": [],
   "source": [
    "answer = sum_t(34,54)"
   ]
  },
  {
   "cell_type": "code",
   "execution_count": 21,
   "id": "1a409d75",
   "metadata": {},
   "outputs": [
    {
     "name": "stdout",
     "output_type": "stream",
     "text": [
      "Sum is 88\n"
     ]
    }
   ],
   "source": [
    "print(f'Sum is {answer}')"
   ]
  },
  {
   "cell_type": "code",
   "execution_count": null,
   "id": "c8ba69c5",
   "metadata": {},
   "outputs": [],
   "source": []
  }
 ],
 "metadata": {
  "kernelspec": {
   "display_name": "Python 3",
   "language": "python",
   "name": "python3"
  },
  "language_info": {
   "codemirror_mode": {
    "name": "ipython",
    "version": 3
   },
   "file_extension": ".py",
   "mimetype": "text/x-python",
   "name": "python",
   "nbconvert_exporter": "python",
   "pygments_lexer": "ipython3",
   "version": "3.8.8"
  }
 },
 "nbformat": 4,
 "nbformat_minor": 5
}
