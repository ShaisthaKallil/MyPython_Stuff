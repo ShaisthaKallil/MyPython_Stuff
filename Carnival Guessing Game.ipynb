{
 "cells": [
  {
   "cell_type": "markdown",
   "id": "0c0855b8",
   "metadata": {},
   "source": [
    "Carnival Guessing Game - 'Three Cup Monte'"
   ]
  },
  {
   "cell_type": "code",
   "execution_count": 2,
   "id": "b91a5983",
   "metadata": {},
   "outputs": [],
   "source": [
    "# Import the shuffle module\n",
    "from random import shuffle"
   ]
  },
  {
   "cell_type": "code",
   "execution_count": 3,
   "id": "1ca1a36d",
   "metadata": {},
   "outputs": [],
   "source": [
    "#Function to return the newly shuffled list\n",
    "def shuffle_list(mylist):\n",
    "    shuffle(mylist)\n",
    "    return mylist"
   ]
  },
  {
   "cell_type": "code",
   "execution_count": 4,
   "id": "460d3952",
   "metadata": {},
   "outputs": [],
   "source": [
    "a_list = [1,2,3,4,5,6,7]\n",
    "\n",
    "result = shuffle_list(a_list)"
   ]
  },
  {
   "cell_type": "code",
   "execution_count": 5,
   "id": "532be985",
   "metadata": {},
   "outputs": [
    {
     "data": {
      "text/plain": [
       "[2, 6, 7, 3, 5, 1, 4]"
      ]
     },
     "execution_count": 5,
     "metadata": {},
     "output_type": "execute_result"
    }
   ],
   "source": [
    "#Test to see whether shuffled list function works \n",
    "result"
   ]
  },
  {
   "cell_type": "code",
   "execution_count": 7,
   "id": "b04d0ef1",
   "metadata": {},
   "outputs": [],
   "source": [
    "#Function to get the player to guess\n",
    "def player_guess():\n",
    "    guess = ''\n",
    "    \n",
    "    while guess not in ['0','1','2']:\n",
    "        guess = input(\"Pick a number 0,1 or 2:\")\n",
    "        \n",
    "    return int(guess)"
   ]
  },
  {
   "cell_type": "code",
   "execution_count": 8,
   "id": "4939d857",
   "metadata": {},
   "outputs": [
    {
     "name": "stdout",
     "output_type": "stream",
     "text": [
      "Pick a number 0,1 or 2:5\n",
      "Pick a number 0,1 or 2:1\n"
     ]
    }
   ],
   "source": [
    "#Test to see whether it works as desired\n",
    "guessed = player_guess()"
   ]
  },
  {
   "cell_type": "code",
   "execution_count": 9,
   "id": "73ae3bc0",
   "metadata": {},
   "outputs": [
    {
     "data": {
      "text/plain": [
       "1"
      ]
     },
     "execution_count": 9,
     "metadata": {},
     "output_type": "execute_result"
    }
   ],
   "source": [
    "#Test to see if variable returns intiger version of guessed value\n",
    "guessed"
   ]
  },
  {
   "cell_type": "code",
   "execution_count": 10,
   "id": "b14bd552",
   "metadata": {},
   "outputs": [],
   "source": [
    "#Function to check whether guessed index matches the shuffled list value 'O'\n",
    "def check_guess(new_list,guess):\n",
    "    if new_list[guess] == 'O':\n",
    "        print(\"You Won\")\n",
    "    else:\n",
    "        print(\"You Lose\")\n",
    "        print(new_list)"
   ]
  },
  {
   "cell_type": "code",
   "execution_count": 11,
   "id": "64f42a28",
   "metadata": {},
   "outputs": [
    {
     "name": "stdout",
     "output_type": "stream",
     "text": [
      "You Won\n"
     ]
    }
   ],
   "source": [
    "#Test to see whether check_guess function works\n",
    "test = ['','O','']\n",
    "check_guess(test,guessed)"
   ]
  },
  {
   "cell_type": "code",
   "execution_count": 19,
   "id": "10113a5c",
   "metadata": {},
   "outputs": [
    {
     "name": "stdout",
     "output_type": "stream",
     "text": [
      "Pick a number 0,1 or 2:1\n",
      "You Won\n"
     ]
    }
   ],
   "source": [
    "#INITIAL LIST\n",
    "init_list = ['O','','']\n",
    "\n",
    "#SHUFFLE LIST\n",
    "mixed_list = shuffle_list(init_list)\n",
    "\n",
    "#PLAYER GUESS\n",
    "user_guess = player_guess()\n",
    "\n",
    "#CHECK GUESS\n",
    "check_guess(mixed_list,user_guess)"
   ]
  },
  {
   "cell_type": "code",
   "execution_count": null,
   "id": "4ae595eb",
   "metadata": {},
   "outputs": [],
   "source": []
  }
 ],
 "metadata": {
  "kernelspec": {
   "display_name": "Python 3",
   "language": "python",
   "name": "python3"
  },
  "language_info": {
   "codemirror_mode": {
    "name": "ipython",
    "version": 3
   },
   "file_extension": ".py",
   "mimetype": "text/x-python",
   "name": "python",
   "nbconvert_exporter": "python",
   "pygments_lexer": "ipython3",
   "version": "3.8.8"
  }
 },
 "nbformat": 4,
 "nbformat_minor": 5
}
