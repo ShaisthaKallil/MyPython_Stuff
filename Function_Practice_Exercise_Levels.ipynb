{
 "cells": [
  {
   "cell_type": "markdown",
   "id": "57fa3a8c",
   "metadata": {},
   "source": [
    "WARM UP EXERCISES"
   ]
  },
  {
   "cell_type": "markdown",
   "id": "6b225bcb",
   "metadata": {},
   "source": [
    "LESSER OF TWO EVENS: Write a function that returns the lesser of two given numbers if both numbers are even, but returns the greater if one or both numbers are odd\n",
    "lesser_of_two_evens(2,4) --> 2\n",
    "lesser_of_two_evens(2,5) --> 5"
   ]
  },
  {
   "cell_type": "code",
   "execution_count": 7,
   "id": "091d4202",
   "metadata": {},
   "outputs": [],
   "source": [
    "def lesser_of_two_evens(a,b):\n",
    "   if a %2 ==0 and b%2==0:\n",
    "       return min(a,b)\n",
    "   else:\n",
    "       return max(a,b)\n",
    "            "
   ]
  },
  {
   "cell_type": "code",
   "execution_count": 8,
   "id": "57d867c4",
   "metadata": {},
   "outputs": [
    {
     "data": {
      "text/plain": [
       "2"
      ]
     },
     "execution_count": 8,
     "metadata": {},
     "output_type": "execute_result"
    }
   ],
   "source": [
    "#Check\n",
    "lesser_of_two_evens(2,4)"
   ]
  },
  {
   "cell_type": "code",
   "execution_count": 9,
   "id": "d684bcd2",
   "metadata": {},
   "outputs": [
    {
     "data": {
      "text/plain": [
       "5"
      ]
     },
     "execution_count": 9,
     "metadata": {},
     "output_type": "execute_result"
    }
   ],
   "source": [
    "#Check\n",
    "lesser_of_two_evens(2,5)"
   ]
  },
  {
   "cell_type": "code",
   "execution_count": 11,
   "id": "d4efa430",
   "metadata": {},
   "outputs": [
    {
     "data": {
      "text/plain": [
       "['soap', 'candy']"
      ]
     },
     "execution_count": 11,
     "metadata": {},
     "output_type": "execute_result"
    }
   ],
   "source": [
    "lst = ['soap','candy']\n",
    "lst"
   ]
  },
  {
   "cell_type": "code",
   "execution_count": 12,
   "id": "13f68969",
   "metadata": {},
   "outputs": [
    {
     "data": {
      "text/plain": [
       "'soap'"
      ]
     },
     "execution_count": 12,
     "metadata": {},
     "output_type": "execute_result"
    }
   ],
   "source": [
    "lst[0]"
   ]
  },
  {
   "cell_type": "code",
   "execution_count": 13,
   "id": "6159d50d",
   "metadata": {},
   "outputs": [
    {
     "data": {
      "text/plain": [
       "'s'"
      ]
     },
     "execution_count": 13,
     "metadata": {},
     "output_type": "execute_result"
    }
   ],
   "source": [
    "lst[0][0]"
   ]
  },
  {
   "cell_type": "markdown",
   "id": "312a5724",
   "metadata": {},
   "source": [
    "Animal Crackers"
   ]
  },
  {
   "cell_type": "code",
   "execution_count": 14,
   "id": "aa014257",
   "metadata": {},
   "outputs": [],
   "source": [
    "def animal_crackers(text):\n",
    "    wordlist = text.split()\n",
    "    return wordlist[0][0] == wordlist[1][0]"
   ]
  },
  {
   "cell_type": "code",
   "execution_count": 15,
   "id": "9725764c",
   "metadata": {},
   "outputs": [
    {
     "data": {
      "text/plain": [
       "True"
      ]
     },
     "execution_count": 15,
     "metadata": {},
     "output_type": "execute_result"
    }
   ],
   "source": [
    "animal_crackers('level lama')"
   ]
  },
  {
   "cell_type": "code",
   "execution_count": 16,
   "id": "3e75e6aa",
   "metadata": {},
   "outputs": [
    {
     "data": {
      "text/plain": [
       "False"
      ]
     },
     "execution_count": 16,
     "metadata": {},
     "output_type": "execute_result"
    }
   ],
   "source": [
    "animal_crackers('level cat')"
   ]
  },
  {
   "cell_type": "markdown",
   "id": "884aab9b",
   "metadata": {},
   "source": [
    "MAKES TWENTY"
   ]
  },
  {
   "cell_type": "code",
   "execution_count": 17,
   "id": "0c99e048",
   "metadata": {},
   "outputs": [],
   "source": [
    "def makes_twenty(x,y):\n",
    "    return (x+y)==20 or x==20 or y==20"
   ]
  },
  {
   "cell_type": "code",
   "execution_count": 18,
   "id": "fb7249b6",
   "metadata": {},
   "outputs": [
    {
     "data": {
      "text/plain": [
       "True"
      ]
     },
     "execution_count": 18,
     "metadata": {},
     "output_type": "execute_result"
    }
   ],
   "source": [
    "makes_twenty(10,10)"
   ]
  },
  {
   "cell_type": "code",
   "execution_count": 19,
   "id": "2254d8c3",
   "metadata": {},
   "outputs": [
    {
     "data": {
      "text/plain": [
       "True"
      ]
     },
     "execution_count": 19,
     "metadata": {},
     "output_type": "execute_result"
    }
   ],
   "source": [
    "makes_twenty(20,10)"
   ]
  },
  {
   "cell_type": "code",
   "execution_count": 20,
   "id": "5c9ac548",
   "metadata": {},
   "outputs": [
    {
     "data": {
      "text/plain": [
       "False"
      ]
     },
     "execution_count": 20,
     "metadata": {},
     "output_type": "execute_result"
    }
   ],
   "source": [
    "makes_twenty(2,3)"
   ]
  },
  {
   "cell_type": "code",
   "execution_count": 1,
   "id": "1f9db1db",
   "metadata": {},
   "outputs": [],
   "source": [
    "text = 'oldmcdonald'"
   ]
  },
  {
   "cell_type": "code",
   "execution_count": 2,
   "id": "d87f058b",
   "metadata": {},
   "outputs": [
    {
     "data": {
      "text/plain": [
       "'o'"
      ]
     },
     "execution_count": 2,
     "metadata": {},
     "output_type": "execute_result"
    }
   ],
   "source": [
    "text[0]"
   ]
  },
  {
   "cell_type": "markdown",
   "id": "a5e9737d",
   "metadata": {},
   "source": [
    "OLD MACDONALD - 1st and 4th letter capital"
   ]
  },
  {
   "cell_type": "code",
   "execution_count": 5,
   "id": "367f3e54",
   "metadata": {},
   "outputs": [],
   "source": [
    "def old_macdonald(name):\n",
    "    count = 0\n",
    "    lst = []\n",
    "    for x in name:\n",
    "        if count ==0 or count ==3:\n",
    "            lst.append(x.upper())\n",
    "        else:\n",
    "            lst.append(x)\n",
    "        count +=1\n",
    "    return ''.join(lst)\n",
    "        \n",
    "        "
   ]
  },
  {
   "cell_type": "code",
   "execution_count": 6,
   "id": "bbb5503d",
   "metadata": {},
   "outputs": [
    {
     "data": {
      "text/plain": [
       "'OldMacdonald'"
      ]
     },
     "execution_count": 6,
     "metadata": {},
     "output_type": "execute_result"
    }
   ],
   "source": [
    "old_macdonald('oldmacdonald')"
   ]
  },
  {
   "cell_type": "markdown",
   "id": "4063c460",
   "metadata": {},
   "source": [
    "Reverse Words in a sentence"
   ]
  },
  {
   "cell_type": "code",
   "execution_count": 13,
   "id": "f264bbf5",
   "metadata": {},
   "outputs": [],
   "source": [
    "def master_yoda(phrase):\n",
    "    wordlist = phrase.split()\n",
    "    length = len(wordlist)\n",
    "    count = length-1\n",
    "    lst = []\n",
    "    for x in wordlist:\n",
    "        lst.append(wordlist[count])\n",
    "        count -=1\n",
    "    return ' '.join(lst)"
   ]
  },
  {
   "cell_type": "code",
   "execution_count": 14,
   "id": "4d13505d",
   "metadata": {},
   "outputs": [
    {
     "data": {
      "text/plain": [
       "'home am I'"
      ]
     },
     "execution_count": 14,
     "metadata": {},
     "output_type": "execute_result"
    }
   ],
   "source": [
    "master_yoda('I am home')"
   ]
  },
  {
   "cell_type": "code",
   "execution_count": 15,
   "id": "53a5e146",
   "metadata": {},
   "outputs": [
    {
     "data": {
      "text/plain": [
       "'ready are We'"
      ]
     },
     "execution_count": 15,
     "metadata": {},
     "output_type": "execute_result"
    }
   ],
   "source": [
    "master_yoda('We are ready')"
   ]
  },
  {
   "cell_type": "code",
   "execution_count": 20,
   "id": "fde92021",
   "metadata": {},
   "outputs": [],
   "source": [
    "def master1_yoda(text):\n",
    "    temp = text.split()\n",
    "    return temp[::-1]\n",
    "    "
   ]
  },
  {
   "cell_type": "code",
   "execution_count": 21,
   "id": "689b41ba",
   "metadata": {},
   "outputs": [
    {
     "data": {
      "text/plain": [
       "['home', 'am', 'I']"
      ]
     },
     "execution_count": 21,
     "metadata": {},
     "output_type": "execute_result"
    }
   ],
   "source": [
    "master1_yoda(\"I am home\")"
   ]
  },
  {
   "cell_type": "markdown",
   "id": "768674b9",
   "metadata": {},
   "source": [
    "FIND 33 - Given a list of ints, return True if the array contains a 3 next to a 3 somewhere.\n",
    "\n",
    "has_33([1, 3, 3]) → True\n",
    "has_33([1, 3, 1, 3]) → False\n",
    "has_33([3, 1, 3]) → False"
   ]
  },
  {
   "cell_type": "code",
   "execution_count": 22,
   "id": "798175c4",
   "metadata": {},
   "outputs": [],
   "source": [
    "def has_33(nums):\n",
    "    for i in range(0, len(nums)-1):\n",
    "        if nums[i]==3 and nums[i+1]==3:\n",
    "            return True\n",
    "    return False"
   ]
  },
  {
   "cell_type": "code",
   "execution_count": 24,
   "id": "be4d5d38",
   "metadata": {},
   "outputs": [
    {
     "data": {
      "text/plain": [
       "True"
      ]
     },
     "execution_count": 24,
     "metadata": {},
     "output_type": "execute_result"
    }
   ],
   "source": [
    "has_33([1,3,3])"
   ]
  },
  {
   "cell_type": "markdown",
   "id": "b1700916",
   "metadata": {},
   "source": [
    "PAPER DOLL - for every letter there is 3 letters"
   ]
  },
  {
   "cell_type": "code",
   "execution_count": 25,
   "id": "58d8c963",
   "metadata": {},
   "outputs": [],
   "source": [
    "def paper_doll(text):\n",
    "    new_str = []\n",
    "    for x in text:\n",
    "        new_str.append(x*3)\n",
    "    return ''.join(new_str)"
   ]
  },
  {
   "cell_type": "code",
   "execution_count": 26,
   "id": "8f6bbc8b",
   "metadata": {},
   "outputs": [
    {
     "data": {
      "text/plain": [
       "'HHHeeellllllooo'"
      ]
     },
     "execution_count": 26,
     "metadata": {},
     "output_type": "execute_result"
    }
   ],
   "source": [
    "paper_doll('Hello')"
   ]
  },
  {
   "cell_type": "code",
   "execution_count": null,
   "id": "e42661bb",
   "metadata": {},
   "outputs": [],
   "source": []
  }
 ],
 "metadata": {
  "kernelspec": {
   "display_name": "Python 3",
   "language": "python",
   "name": "python3"
  },
  "language_info": {
   "codemirror_mode": {
    "name": "ipython",
    "version": 3
   },
   "file_extension": ".py",
   "mimetype": "text/x-python",
   "name": "python",
   "nbconvert_exporter": "python",
   "pygments_lexer": "ipython3",
   "version": "3.8.8"
  }
 },
 "nbformat": 4,
 "nbformat_minor": 5
}
