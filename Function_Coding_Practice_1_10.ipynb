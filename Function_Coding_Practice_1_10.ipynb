{
 "cells": [
  {
   "cell_type": "code",
   "execution_count": 1,
   "id": "2d4aa49e",
   "metadata": {},
   "outputs": [],
   "source": [
    "def myfunc():\n",
    "    print('Hello World')"
   ]
  },
  {
   "cell_type": "code",
   "execution_count": 2,
   "id": "29789d03",
   "metadata": {},
   "outputs": [
    {
     "name": "stdout",
     "output_type": "stream",
     "text": [
      "Hello World\n"
     ]
    }
   ],
   "source": [
    "myfunc()"
   ]
  },
  {
   "cell_type": "markdown",
   "id": "759f6508",
   "metadata": {},
   "source": [
    "Code Exercise 2 : Define a function called myfunc that takes in a name, and prints 'Hello Name'"
   ]
  },
  {
   "cell_type": "code",
   "execution_count": 3,
   "id": "8611c6db",
   "metadata": {},
   "outputs": [],
   "source": [
    "def myfunc(name):\n",
    "    print('My name is {}'.format(name))"
   ]
  },
  {
   "cell_type": "code",
   "execution_count": 4,
   "id": "57bb66c1",
   "metadata": {},
   "outputs": [
    {
     "name": "stdout",
     "output_type": "stream",
     "text": [
      "My name is Shai\n"
     ]
    }
   ],
   "source": [
    "myfunc('Shai')"
   ]
  },
  {
   "cell_type": "markdown",
   "id": "83d5f84e",
   "metadata": {},
   "source": [
    "Code Exercise 3: Define a function called myfuc that takes in a Boolean Value(True or False). If True, return 'Hello', and if False, return 'Goodbye'"
   ]
  },
  {
   "cell_type": "code",
   "execution_count": 5,
   "id": "a06e3482",
   "metadata": {},
   "outputs": [],
   "source": [
    "def myfunc(x):\n",
    "    if x == True:\n",
    "        return 'Hello'\n",
    "    else:\n",
    "        return 'Goodbye'"
   ]
  },
  {
   "cell_type": "code",
   "execution_count": 6,
   "id": "3c26f416",
   "metadata": {},
   "outputs": [
    {
     "data": {
      "text/plain": [
       "'Hello'"
      ]
     },
     "execution_count": 6,
     "metadata": {},
     "output_type": "execute_result"
    }
   ],
   "source": [
    "myfunc(True)"
   ]
  },
  {
   "cell_type": "code",
   "execution_count": 7,
   "id": "33e3bb65",
   "metadata": {},
   "outputs": [
    {
     "data": {
      "text/plain": [
       "'Goodbye'"
      ]
     },
     "execution_count": 7,
     "metadata": {},
     "output_type": "execute_result"
    }
   ],
   "source": [
    "myfunc(False)"
   ]
  },
  {
   "cell_type": "markdown",
   "id": "bc0717cc",
   "metadata": {},
   "source": [
    "Code Exercise 4:myfunc takes 3 args x,y,z. if z True return x, if x False, return y"
   ]
  },
  {
   "cell_type": "code",
   "execution_count": 11,
   "id": "1ea69ae3",
   "metadata": {},
   "outputs": [],
   "source": [
    "def myfunc(x,y,z):\n",
    "    if z == True:\n",
    "        return x\n",
    "    else:\n",
    "        return y\n",
    "        "
   ]
  },
  {
   "cell_type": "code",
   "execution_count": 14,
   "id": "4bd66217",
   "metadata": {},
   "outputs": [
    {
     "data": {
      "text/plain": [
       "'Goodbye'"
      ]
     },
     "execution_count": 14,
     "metadata": {},
     "output_type": "execute_result"
    }
   ],
   "source": [
    "myfunc('Hello','Goodbye',False)"
   ]
  },
  {
   "cell_type": "code",
   "execution_count": 15,
   "id": "4f6ccd51",
   "metadata": {},
   "outputs": [
    {
     "data": {
      "text/plain": [
       "'Goodbye'"
      ]
     },
     "execution_count": 15,
     "metadata": {},
     "output_type": "execute_result"
    }
   ],
   "source": [
    "myfunc('Goodbye','Hello',True)"
   ]
  },
  {
   "cell_type": "markdown",
   "id": "476477ea",
   "metadata": {},
   "source": [
    "Code Exercise 5 : myfunc 2 args and return sum."
   ]
  },
  {
   "cell_type": "code",
   "execution_count": 16,
   "id": "10c4cf55",
   "metadata": {},
   "outputs": [],
   "source": [
    "def myfunc(a,b):\n",
    "    return a +b"
   ]
  },
  {
   "cell_type": "code",
   "execution_count": 17,
   "id": "46b97f98",
   "metadata": {},
   "outputs": [
    {
     "data": {
      "text/plain": [
       "8"
      ]
     },
     "execution_count": 17,
     "metadata": {},
     "output_type": "execute_result"
    }
   ],
   "source": [
    "myfunc(5,3)"
   ]
  },
  {
   "cell_type": "markdown",
   "id": "e574014b",
   "metadata": {},
   "source": [
    "Code Exercise 6: is_even 1 arg and returns True if even else false"
   ]
  },
  {
   "cell_type": "code",
   "execution_count": 19,
   "id": "23672032",
   "metadata": {},
   "outputs": [],
   "source": [
    "def is_even(val):\n",
    "    if val%2 == 0:\n",
    "        return True\n",
    "    else:\n",
    "        return False"
   ]
  },
  {
   "cell_type": "code",
   "execution_count": 20,
   "id": "464995ca",
   "metadata": {},
   "outputs": [
    {
     "data": {
      "text/plain": [
       "True"
      ]
     },
     "execution_count": 20,
     "metadata": {},
     "output_type": "execute_result"
    }
   ],
   "source": [
    "is_even(4)"
   ]
  },
  {
   "cell_type": "code",
   "execution_count": 21,
   "id": "c6029175",
   "metadata": {},
   "outputs": [
    {
     "data": {
      "text/plain": [
       "False"
      ]
     },
     "execution_count": 21,
     "metadata": {},
     "output_type": "execute_result"
    }
   ],
   "source": [
    "is_even(27)"
   ]
  },
  {
   "cell_type": "markdown",
   "id": "8c08a77f",
   "metadata": {},
   "source": [
    "Code Exercies 7: is_greater 2 args return True (if first val > second val) False(first val less or equal to second val)"
   ]
  },
  {
   "cell_type": "code",
   "execution_count": 22,
   "id": "7c39ff55",
   "metadata": {},
   "outputs": [],
   "source": [
    "def is_greater(x,y):\n",
    "    if x>y:\n",
    "        return True\n",
    "    else:\n",
    "        return False"
   ]
  },
  {
   "cell_type": "code",
   "execution_count": 23,
   "id": "aa7711b1",
   "metadata": {},
   "outputs": [
    {
     "data": {
      "text/plain": [
       "True"
      ]
     },
     "execution_count": 23,
     "metadata": {},
     "output_type": "execute_result"
    }
   ],
   "source": [
    "is_greater(4,3)"
   ]
  },
  {
   "cell_type": "code",
   "execution_count": 24,
   "id": "a3e4e985",
   "metadata": {},
   "outputs": [
    {
     "data": {
      "text/plain": [
       "False"
      ]
     },
     "execution_count": 24,
     "metadata": {},
     "output_type": "execute_result"
    }
   ],
   "source": [
    "is_greater(99,124123)"
   ]
  },
  {
   "cell_type": "markdown",
   "id": "af469514",
   "metadata": {},
   "source": [
    "A look at arbiterary number of arguments rather than positional *args . These are tuples"
   ]
  },
  {
   "cell_type": "code",
   "execution_count": 29,
   "id": "30a1d9fc",
   "metadata": {},
   "outputs": [],
   "source": [
    "def myfunc(*args):\n",
    "    print(args)\n",
    "    for item in args:\n",
    "        print(item)"
   ]
  },
  {
   "cell_type": "code",
   "execution_count": 30,
   "id": "207421f8",
   "metadata": {},
   "outputs": [
    {
     "name": "stdout",
     "output_type": "stream",
     "text": [
      "(23, 534, 65, 23, 454, 6, 3, 345)\n",
      "23\n",
      "534\n",
      "65\n",
      "23\n",
      "454\n",
      "6\n",
      "3\n",
      "345\n"
     ]
    }
   ],
   "source": [
    "myfunc(23,534,65,23,454,6,3,345)"
   ]
  },
  {
   "cell_type": "markdown",
   "id": "b1966052",
   "metadata": {},
   "source": [
    "Instead of tuples like above use dictionary keywords **kwargs"
   ]
  },
  {
   "cell_type": "code",
   "execution_count": 33,
   "id": "260cb009",
   "metadata": {},
   "outputs": [],
   "source": [
    "def myfunc(**kwargs):\n",
    "    if 'fruit' in kwargs:\n",
    "        print(\"Fruit is {}\".format(kwargs['fruit']))\n",
    "    else:\n",
    "        print('Did not find fruit')"
   ]
  },
  {
   "cell_type": "code",
   "execution_count": 34,
   "id": "0e72061e",
   "metadata": {},
   "outputs": [
    {
     "name": "stdout",
     "output_type": "stream",
     "text": [
      "Fruit is apple\n"
     ]
    }
   ],
   "source": [
    "myfunc(fruit = 'apple', veggie = 'lettuce')"
   ]
  },
  {
   "cell_type": "markdown",
   "id": "2c9959f3",
   "metadata": {},
   "source": [
    "a function with *args and **kwargs as arguments. One indicates tuple and other dictionary of arbiterary values."
   ]
  },
  {
   "cell_type": "code",
   "execution_count": 36,
   "id": "c8e4258d",
   "metadata": {},
   "outputs": [],
   "source": [
    "def myfunc(*args,**kwargs):\n",
    "    print( \"I would like {} {}\".format(args[0], kwargs['food']))"
   ]
  },
  {
   "cell_type": "code",
   "execution_count": 37,
   "id": "bbb95c9e",
   "metadata": {},
   "outputs": [
    {
     "name": "stdout",
     "output_type": "stream",
     "text": [
      "I would like 13 eggs\n"
     ]
    }
   ],
   "source": [
    "myfunc(13,2345,232,fruit= 'orange', food = 'eggs')"
   ]
  },
  {
   "cell_type": "markdown",
   "id": "299e8d2e",
   "metadata": {},
   "source": [
    "Function myfunc arbitrary number of args and returns the sum of the args"
   ]
  },
  {
   "cell_type": "code",
   "execution_count": 62,
   "id": "e96f9c12",
   "metadata": {},
   "outputs": [],
   "source": [
    "def myfunc(*args):\n",
    "   result = 0\n",
    "   for item in args:\n",
    "       print(item)\n",
    "       result += item\n",
    "   return result \n",
    "       "
   ]
  },
  {
   "cell_type": "code",
   "execution_count": 63,
   "id": "92b90df5",
   "metadata": {},
   "outputs": [
    {
     "name": "stdout",
     "output_type": "stream",
     "text": [
      "10\n",
      "20\n",
      "30\n",
      "40\n",
      "50\n"
     ]
    },
    {
     "data": {
      "text/plain": [
       "150"
      ]
     },
     "execution_count": 63,
     "metadata": {},
     "output_type": "execute_result"
    }
   ],
   "source": [
    "myfunc(10,20,30,40,50)"
   ]
  },
  {
   "cell_type": "markdown",
   "id": "77692ac2",
   "metadata": {},
   "source": [
    "Function myfunc takes arbitrary number of args and returns list only with even args"
   ]
  },
  {
   "cell_type": "code",
   "execution_count": 73,
   "id": "1033b196",
   "metadata": {},
   "outputs": [],
   "source": [
    "def myfunc(*args):\n",
    "    lst = []\n",
    "    for item in args:\n",
    "        if item % 2 == 0:\n",
    "            lst.append(item)\n",
    "    return lst\n",
    "    "
   ]
  },
  {
   "cell_type": "code",
   "execution_count": 74,
   "id": "88229676",
   "metadata": {},
   "outputs": [
    {
     "data": {
      "text/plain": [
       "[2, 32]"
      ]
     },
     "execution_count": 74,
     "metadata": {},
     "output_type": "execute_result"
    }
   ],
   "source": [
    "myfunc(2,32,3,5,63)"
   ]
  },
  {
   "cell_type": "markdown",
   "id": "a49cbf5f",
   "metadata": {},
   "source": [
    "Function myfunc takes string arg and returns matching string where every even letter is uppercase and every odd letter is lowercase. Assume incoming string only contains letters (no nums or toher chars) "
   ]
  },
  {
   "cell_type": "code",
   "execution_count": 100,
   "id": "547ba0be",
   "metadata": {},
   "outputs": [],
   "source": [
    "def myfunc(str):\n",
    "    count = 0\n",
    "    lst = []\n",
    "    for x in str:\n",
    "        if count%2==0 :\n",
    "          lst.append(x.upper())\n",
    "        else:\n",
    "          lst.append(x.lower())\n",
    "        count +=1\n",
    "    return ''.join(lst)\n"
   ]
  },
  {
   "cell_type": "code",
   "execution_count": 101,
   "id": "5fd0751a",
   "metadata": {},
   "outputs": [
    {
     "data": {
      "text/plain": [
       "'ShAiStHa'"
      ]
     },
     "execution_count": 101,
     "metadata": {},
     "output_type": "execute_result"
    }
   ],
   "source": [
    "myfunc('shaistha')"
   ]
  },
  {
   "cell_type": "code",
   "execution_count": null,
   "id": "d140df16",
   "metadata": {},
   "outputs": [],
   "source": []
  }
 ],
 "metadata": {
  "kernelspec": {
   "display_name": "Python 3",
   "language": "python",
   "name": "python3"
  },
  "language_info": {
   "codemirror_mode": {
    "name": "ipython",
    "version": 3
   },
   "file_extension": ".py",
   "mimetype": "text/x-python",
   "name": "python",
   "nbconvert_exporter": "python",
   "pygments_lexer": "ipython3",
   "version": "3.8.8"
  }
 },
 "nbformat": 4,
 "nbformat_minor": 5
}
