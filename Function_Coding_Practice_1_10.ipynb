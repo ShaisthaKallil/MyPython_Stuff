{
 "cells": [
  {
   "cell_type": "code",
   "execution_count": 1,
   "id": "d729db00",
   "metadata": {},
   "outputs": [],
   "source": [
    "def myfunc():\n",
    "    print('Hello World')"
   ]
  },
  {
   "cell_type": "code",
   "execution_count": 2,
   "id": "5d6f728f",
   "metadata": {},
   "outputs": [
    {
     "name": "stdout",
     "output_type": "stream",
     "text": [
      "Hello World\n"
     ]
    }
   ],
   "source": [
    "myfunc()"
   ]
  },
  {
   "cell_type": "markdown",
   "id": "8c548871",
   "metadata": {},
   "source": [
    "Code Exercise 2 : Define a function called myfunc that takes in a name, and prints 'Hello Name'"
   ]
  },
  {
   "cell_type": "code",
   "execution_count": 3,
   "id": "a9eb91e6",
   "metadata": {},
   "outputs": [],
   "source": [
    "def myfunc(name):\n",
    "    print('My name is {}'.format(name))"
   ]
  },
  {
   "cell_type": "code",
   "execution_count": 4,
   "id": "c5d276f7",
   "metadata": {},
   "outputs": [
    {
     "name": "stdout",
     "output_type": "stream",
     "text": [
      "My name is Shai\n"
     ]
    }
   ],
   "source": [
    "myfunc('Shai')"
   ]
  },
  {
   "cell_type": "markdown",
   "id": "48a0d0e7",
   "metadata": {},
   "source": [
    "Code Exercise 3: Define a function called myfuc that takes in a Boolean Value(True or False). If True, return 'Hello', and if False, return 'Goodbye'"
   ]
  },
  {
   "cell_type": "code",
   "execution_count": 5,
   "id": "7812a164",
   "metadata": {},
   "outputs": [],
   "source": [
    "def myfunc(x):\n",
    "    if x == True:\n",
    "        return 'Hello'\n",
    "    else:\n",
    "        return 'Goodbye'"
   ]
  },
  {
   "cell_type": "code",
   "execution_count": 6,
   "id": "72871f56",
   "metadata": {},
   "outputs": [
    {
     "data": {
      "text/plain": [
       "'Hello'"
      ]
     },
     "execution_count": 6,
     "metadata": {},
     "output_type": "execute_result"
    }
   ],
   "source": [
    "myfunc(True)"
   ]
  },
  {
   "cell_type": "code",
   "execution_count": 7,
   "id": "81b8f7ac",
   "metadata": {},
   "outputs": [
    {
     "data": {
      "text/plain": [
       "'Goodbye'"
      ]
     },
     "execution_count": 7,
     "metadata": {},
     "output_type": "execute_result"
    }
   ],
   "source": [
    "myfunc(False)"
   ]
  },
  {
   "cell_type": "markdown",
   "id": "28ddb7cc",
   "metadata": {},
   "source": [
    "Code Exercise 4:myfunc takes 3 args x,y,z. if z True return x, if x False, return y"
   ]
  },
  {
   "cell_type": "code",
   "execution_count": 11,
   "id": "27653d06",
   "metadata": {},
   "outputs": [],
   "source": [
    "def myfunc(x,y,z):\n",
    "    if z == True:\n",
    "        return x\n",
    "    else:\n",
    "        return y\n",
    "        "
   ]
  },
  {
   "cell_type": "code",
   "execution_count": 14,
   "id": "bf487a6a",
   "metadata": {},
   "outputs": [
    {
     "data": {
      "text/plain": [
       "'Goodbye'"
      ]
     },
     "execution_count": 14,
     "metadata": {},
     "output_type": "execute_result"
    }
   ],
   "source": [
    "myfunc('Hello','Goodbye',False)"
   ]
  },
  {
   "cell_type": "code",
   "execution_count": 15,
   "id": "2115e132",
   "metadata": {},
   "outputs": [
    {
     "data": {
      "text/plain": [
       "'Goodbye'"
      ]
     },
     "execution_count": 15,
     "metadata": {},
     "output_type": "execute_result"
    }
   ],
   "source": [
    "myfunc('Goodbye','Hello',True)"
   ]
  },
  {
   "cell_type": "markdown",
   "id": "4b258fc7",
   "metadata": {},
   "source": [
    "Code Exercise 5 : myfunc 2 args and return sum."
   ]
  },
  {
   "cell_type": "code",
   "execution_count": 16,
   "id": "9423d26f",
   "metadata": {},
   "outputs": [],
   "source": [
    "def myfunc(a,b):\n",
    "    return a +b"
   ]
  },
  {
   "cell_type": "code",
   "execution_count": 17,
   "id": "5bb8143d",
   "metadata": {},
   "outputs": [
    {
     "data": {
      "text/plain": [
       "8"
      ]
     },
     "execution_count": 17,
     "metadata": {},
     "output_type": "execute_result"
    }
   ],
   "source": [
    "myfunc(5,3)"
   ]
  },
  {
   "cell_type": "markdown",
   "id": "b18575ff",
   "metadata": {},
   "source": [
    "Code Exercise 6: is_even 1 arg and returns True if even else false"
   ]
  },
  {
   "cell_type": "code",
   "execution_count": 19,
   "id": "0394ee9d",
   "metadata": {},
   "outputs": [],
   "source": [
    "def is_even(val):\n",
    "    if val%2 == 0:\n",
    "        return True\n",
    "    else:\n",
    "        return False"
   ]
  },
  {
   "cell_type": "code",
   "execution_count": 20,
   "id": "b779d3c5",
   "metadata": {},
   "outputs": [
    {
     "data": {
      "text/plain": [
       "True"
      ]
     },
     "execution_count": 20,
     "metadata": {},
     "output_type": "execute_result"
    }
   ],
   "source": [
    "is_even(4)"
   ]
  },
  {
   "cell_type": "code",
   "execution_count": 21,
   "id": "44d8ea4d",
   "metadata": {},
   "outputs": [
    {
     "data": {
      "text/plain": [
       "False"
      ]
     },
     "execution_count": 21,
     "metadata": {},
     "output_type": "execute_result"
    }
   ],
   "source": [
    "is_even(27)"
   ]
  },
  {
   "cell_type": "markdown",
   "id": "9fc47d85",
   "metadata": {},
   "source": [
    "Code Exercies 7: is_greater 2 args return True (if first val > second val) False(first val less or equal to second val)"
   ]
  },
  {
   "cell_type": "code",
   "execution_count": 22,
   "id": "2b973afe",
   "metadata": {},
   "outputs": [],
   "source": [
    "def is_greater(x,y):\n",
    "    if x>y:\n",
    "        return True\n",
    "    else:\n",
    "        return False"
   ]
  },
  {
   "cell_type": "code",
   "execution_count": 23,
   "id": "b6a85457",
   "metadata": {},
   "outputs": [
    {
     "data": {
      "text/plain": [
       "True"
      ]
     },
     "execution_count": 23,
     "metadata": {},
     "output_type": "execute_result"
    }
   ],
   "source": [
    "is_greater(4,3)"
   ]
  },
  {
   "cell_type": "code",
   "execution_count": 24,
   "id": "3d5203a8",
   "metadata": {},
   "outputs": [
    {
     "data": {
      "text/plain": [
       "False"
      ]
     },
     "execution_count": 24,
     "metadata": {},
     "output_type": "execute_result"
    }
   ],
   "source": [
    "is_greater(99,124123)"
   ]
  },
  {
   "cell_type": "markdown",
   "id": "0cd7bd82",
   "metadata": {},
   "source": [
    "A look at arbiterary number of arguments rather than positional *args . These are tuples"
   ]
  },
  {
   "cell_type": "code",
   "execution_count": 29,
   "id": "d7471c11",
   "metadata": {},
   "outputs": [],
   "source": [
    "def myfunc(*args):\n",
    "    print(args)\n",
    "    for item in args:\n",
    "        print(item)"
   ]
  },
  {
   "cell_type": "code",
   "execution_count": 30,
   "id": "188d8589",
   "metadata": {},
   "outputs": [
    {
     "name": "stdout",
     "output_type": "stream",
     "text": [
      "(23, 534, 65, 23, 454, 6, 3, 345)\n",
      "23\n",
      "534\n",
      "65\n",
      "23\n",
      "454\n",
      "6\n",
      "3\n",
      "345\n"
     ]
    }
   ],
   "source": [
    "myfunc(23,534,65,23,454,6,3,345)"
   ]
  },
  {
   "cell_type": "markdown",
   "id": "ae8f134e",
   "metadata": {},
   "source": [
    "Instead of tuples like above use dictionary keywords **kwargs"
   ]
  },
  {
   "cell_type": "code",
   "execution_count": 33,
   "id": "38c3ac7e",
   "metadata": {},
   "outputs": [],
   "source": [
    "def myfunc(**kwargs):\n",
    "    if 'fruit' in kwargs:\n",
    "        print(\"Fruit is {}\".format(kwargs['fruit']))\n",
    "    else:\n",
    "        print('Did not find fruit')"
   ]
  },
  {
   "cell_type": "code",
   "execution_count": 34,
   "id": "9c7e6529",
   "metadata": {},
   "outputs": [
    {
     "name": "stdout",
     "output_type": "stream",
     "text": [
      "Fruit is apple\n"
     ]
    }
   ],
   "source": [
    "myfunc(fruit = 'apple', veggie = 'lettuce')"
   ]
  },
  {
   "cell_type": "code",
   "execution_count": null,
   "id": "edf13d14",
   "metadata": {},
   "outputs": [],
   "source": []
  }
 ],
 "metadata": {
  "kernelspec": {
   "display_name": "Python 3",
   "language": "python",
   "name": "python3"
  },
  "language_info": {
   "codemirror_mode": {
    "name": "ipython",
    "version": 3
   },
   "file_extension": ".py",
   "mimetype": "text/x-python",
   "name": "python",
   "nbconvert_exporter": "python",
   "pygments_lexer": "ipython3",
   "version": "3.8.8"
  }
 },
 "nbformat": 4,
 "nbformat_minor": 5
}
